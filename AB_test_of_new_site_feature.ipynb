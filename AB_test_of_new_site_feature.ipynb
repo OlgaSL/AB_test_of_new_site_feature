{
 "cells": [
  {
   "cell_type": "code",
   "execution_count": 1,
   "metadata": {},
   "outputs": [],
   "source": [
    "import pandas as pd\n",
    "import scipy.stats as st\n",
    "from scipy.stats import chi2_contingency\n",
    "import matplotlib.pyplot as plt\n",
    "import requests\n",
    "import seaborn as sns"
   ]
  },
  {
   "cell_type": "markdown",
   "metadata": {},
   "source": [
    "# Задание 1. A/B–тестирование"
   ]
  },
  {
   "cell_type": "markdown",
   "metadata": {},
   "source": [
    "## 1.1. Разведочный анализ данных (EDA)"
   ]
  },
  {
   "cell_type": "markdown",
   "metadata": {},
   "source": [
    "### 1.1.1. Общая информация для 'Проект_2_groups.csv' "
   ]
  },
  {
   "cell_type": "markdown",
   "metadata": {},
   "source": [
    "#### 1.1.1.1 Загрузка и первичный осмотр данных"
   ]
  },
  {
   "cell_type": "code",
   "execution_count": 2,
   "metadata": {},
   "outputs": [],
   "source": [
    "#Скачиваем  файл с яндекс диска\n",
    "def download_new_file(public_url):\n",
    "\n",
    "    # Формируем специальную ссылку для получения прямой ссылки на скачивание\n",
    "    download_api_url = \"https://cloud-api.yandex.net/v1/disk/public/resources/download\"\n",
    "    params = {\"public_key\": public_url}\n",
    "    # Запрашиваем ссылку для скачивания\n",
    "    response = requests.get(download_api_url, params=params)\n",
    "    if response.status_code == 200:\n",
    "        direct_download_url = response.json().get(\"href\")\n",
    "        return direct_download_url\n",
    "    else:\n",
    "        print(\"Ошибка получения ссылки:\", response.text) "
   ]
  },
  {
   "cell_type": "code",
   "execution_count": 3,
   "metadata": {},
   "outputs": [],
   "source": [
    "# файл с информацией о принадлежности пользователя к контрольной или экспериментальной группе \n",
    "# (А – контроль, B – целевая группа) )\n",
    "groups = pd.read_csv(download_new_file(\"https://disk.yandex.ru/d/ivuka7hIJeRhGw\"), sep = \";\" )\n",
    "\n"
   ]
  },
  {
   "cell_type": "code",
   "execution_count": 17,
   "metadata": {},
   "outputs": [
    {
     "data": {
      "text/plain": [
       "(74484, 2)"
      ]
     },
     "execution_count": 17,
     "metadata": {},
     "output_type": "execute_result"
    }
   ],
   "source": [
    "groups.shape"
   ]
  },
  {
   "cell_type": "code",
   "execution_count": 18,
   "metadata": {
    "scrolled": true
   },
   "outputs": [
    {
     "data": {
      "text/html": [
       "<div>\n",
       "<style scoped>\n",
       "    .dataframe tbody tr th:only-of-type {\n",
       "        vertical-align: middle;\n",
       "    }\n",
       "\n",
       "    .dataframe tbody tr th {\n",
       "        vertical-align: top;\n",
       "    }\n",
       "\n",
       "    .dataframe thead th {\n",
       "        text-align: right;\n",
       "    }\n",
       "</style>\n",
       "<table border=\"1\" class=\"dataframe\">\n",
       "  <thead>\n",
       "    <tr style=\"text-align: right;\">\n",
       "      <th></th>\n",
       "      <th>id</th>\n",
       "      <th>grp</th>\n",
       "    </tr>\n",
       "  </thead>\n",
       "  <tbody>\n",
       "    <tr>\n",
       "      <th>0</th>\n",
       "      <td>1489</td>\n",
       "      <td>B</td>\n",
       "    </tr>\n",
       "    <tr>\n",
       "      <th>1</th>\n",
       "      <td>1627</td>\n",
       "      <td>A</td>\n",
       "    </tr>\n",
       "    <tr>\n",
       "      <th>2</th>\n",
       "      <td>1768</td>\n",
       "      <td>B</td>\n",
       "    </tr>\n",
       "    <tr>\n",
       "      <th>3</th>\n",
       "      <td>1783</td>\n",
       "      <td>B</td>\n",
       "    </tr>\n",
       "    <tr>\n",
       "      <th>4</th>\n",
       "      <td>1794</td>\n",
       "      <td>A</td>\n",
       "    </tr>\n",
       "  </tbody>\n",
       "</table>\n",
       "</div>"
      ],
      "text/plain": [
       "     id grp\n",
       "0  1489   B\n",
       "1  1627   A\n",
       "2  1768   B\n",
       "3  1783   B\n",
       "4  1794   A"
      ]
     },
     "execution_count": 18,
     "metadata": {},
     "output_type": "execute_result"
    }
   ],
   "source": [
    "groups.head()"
   ]
  },
  {
   "cell_type": "code",
   "execution_count": 130,
   "metadata": {},
   "outputs": [
    {
     "data": {
      "text/plain": [
       "id     74484\n",
       "grp        2\n",
       "dtype: int64"
      ]
     },
     "execution_count": 130,
     "metadata": {},
     "output_type": "execute_result"
    }
   ],
   "source": [
    "groups.nunique()"
   ]
  },
  {
   "cell_type": "code",
   "execution_count": 35,
   "metadata": {},
   "outputs": [
    {
     "name": "stdout",
     "output_type": "stream",
     "text": [
      "<class 'pandas.core.frame.DataFrame'>\n",
      "RangeIndex: 74484 entries, 0 to 74483\n",
      "Data columns (total 2 columns):\n",
      " #   Column  Non-Null Count  Dtype \n",
      "---  ------  --------------  ----- \n",
      " 0   id      74484 non-null  int64 \n",
      " 1   grp     74484 non-null  object\n",
      "dtypes: int64(1), object(1)\n",
      "memory usage: 1.1+ MB\n"
     ]
    }
   ],
   "source": [
    "groups.info()"
   ]
  },
  {
   "cell_type": "markdown",
   "metadata": {},
   "source": [
    "#### 1.1.1.2. Обработка пропущенных значений (NaN)"
   ]
  },
  {
   "cell_type": "code",
   "execution_count": 20,
   "metadata": {},
   "outputs": [
    {
     "data": {
      "text/plain": [
       "id     0\n",
       "grp    0\n",
       "dtype: int64"
      ]
     },
     "execution_count": 20,
     "metadata": {},
     "output_type": "execute_result"
    }
   ],
   "source": [
    "groups.isna().sum()"
   ]
  },
  {
   "cell_type": "markdown",
   "metadata": {},
   "source": [
    "### 1.1.2. Общая информация для 'Проект_2_group_add.csv'"
   ]
  },
  {
   "cell_type": "markdown",
   "metadata": {},
   "source": [
    "#### 1.1.2.1. Загрузка и первичный осмотр данных"
   ]
  },
  {
   "cell_type": "code",
   "execution_count": 4,
   "metadata": {},
   "outputs": [],
   "source": [
    "# дополнительный файл с пользователями, который вам прислали спустя 2 дня после передачи данных\n",
    "group_add = pd.read_csv(download_new_file(\"https://disk.yandex.ru/d/hTIiejKpOd5ijg\"))"
   ]
  },
  {
   "cell_type": "code",
   "execution_count": 20,
   "metadata": {},
   "outputs": [
    {
     "data": {
      "text/plain": [
       "(92, 2)"
      ]
     },
     "execution_count": 20,
     "metadata": {},
     "output_type": "execute_result"
    }
   ],
   "source": [
    "group_add.shape"
   ]
  },
  {
   "cell_type": "code",
   "execution_count": 21,
   "metadata": {},
   "outputs": [
    {
     "data": {
      "text/html": [
       "<div>\n",
       "<style scoped>\n",
       "    .dataframe tbody tr th:only-of-type {\n",
       "        vertical-align: middle;\n",
       "    }\n",
       "\n",
       "    .dataframe tbody tr th {\n",
       "        vertical-align: top;\n",
       "    }\n",
       "\n",
       "    .dataframe thead th {\n",
       "        text-align: right;\n",
       "    }\n",
       "</style>\n",
       "<table border=\"1\" class=\"dataframe\">\n",
       "  <thead>\n",
       "    <tr style=\"text-align: right;\">\n",
       "      <th></th>\n",
       "      <th>id</th>\n",
       "      <th>grp</th>\n",
       "    </tr>\n",
       "  </thead>\n",
       "  <tbody>\n",
       "    <tr>\n",
       "      <th>0</th>\n",
       "      <td>5694584</td>\n",
       "      <td>B</td>\n",
       "    </tr>\n",
       "    <tr>\n",
       "      <th>1</th>\n",
       "      <td>5694830</td>\n",
       "      <td>B</td>\n",
       "    </tr>\n",
       "    <tr>\n",
       "      <th>2</th>\n",
       "      <td>5695057</td>\n",
       "      <td>B</td>\n",
       "    </tr>\n",
       "    <tr>\n",
       "      <th>3</th>\n",
       "      <td>5698872</td>\n",
       "      <td>B</td>\n",
       "    </tr>\n",
       "    <tr>\n",
       "      <th>4</th>\n",
       "      <td>5699067</td>\n",
       "      <td>B</td>\n",
       "    </tr>\n",
       "  </tbody>\n",
       "</table>\n",
       "</div>"
      ],
      "text/plain": [
       "        id grp\n",
       "0  5694584   B\n",
       "1  5694830   B\n",
       "2  5695057   B\n",
       "3  5698872   B\n",
       "4  5699067   B"
      ]
     },
     "execution_count": 21,
     "metadata": {},
     "output_type": "execute_result"
    }
   ],
   "source": [
    "group_add.head()"
   ]
  },
  {
   "cell_type": "code",
   "execution_count": 129,
   "metadata": {},
   "outputs": [
    {
     "data": {
      "text/plain": [
       "92"
      ]
     },
     "execution_count": 129,
     "metadata": {},
     "output_type": "execute_result"
    }
   ],
   "source": [
    "group_add.id.nunique()"
   ]
  },
  {
   "cell_type": "code",
   "execution_count": 37,
   "metadata": {},
   "outputs": [
    {
     "name": "stdout",
     "output_type": "stream",
     "text": [
      "<class 'pandas.core.frame.DataFrame'>\n",
      "RangeIndex: 92 entries, 0 to 91\n",
      "Data columns (total 2 columns):\n",
      " #   Column  Non-Null Count  Dtype \n",
      "---  ------  --------------  ----- \n",
      " 0   id      92 non-null     int64 \n",
      " 1   grp     92 non-null     object\n",
      "dtypes: int64(1), object(1)\n",
      "memory usage: 1.6+ KB\n"
     ]
    }
   ],
   "source": [
    "group_add.info()"
   ]
  },
  {
   "cell_type": "markdown",
   "metadata": {},
   "source": [
    "#### 1.1.2.2. Обработка пропущенных значений (NaN)"
   ]
  },
  {
   "cell_type": "code",
   "execution_count": 40,
   "metadata": {},
   "outputs": [
    {
     "data": {
      "text/plain": [
       "id     0\n",
       "grp    0\n",
       "dtype: int64"
      ]
     },
     "execution_count": 40,
     "metadata": {},
     "output_type": "execute_result"
    }
   ],
   "source": [
    "group_add.isna().sum()"
   ]
  },
  {
   "cell_type": "markdown",
   "metadata": {},
   "source": [
    "### 1.1.3. Общая информация для 'Проект_2_active_studs.csv' "
   ]
  },
  {
   "cell_type": "markdown",
   "metadata": {},
   "source": [
    "#### 1.1.3.1. Загрузка и первичный осмотр данных"
   ]
  },
  {
   "cell_type": "code",
   "execution_count": 5,
   "metadata": {},
   "outputs": [],
   "source": [
    "# файл с информацией о пользователях, которые зашли на платформу в дни проведения эксперимента\n",
    "active_studs = pd.read_csv(download_new_file('https://disk.yandex.ru/d/EAfSVJRDfw9DQA'))"
   ]
  },
  {
   "cell_type": "code",
   "execution_count": 23,
   "metadata": {},
   "outputs": [
    {
     "data": {
      "text/plain": [
       "(8341, 1)"
      ]
     },
     "execution_count": 23,
     "metadata": {},
     "output_type": "execute_result"
    }
   ],
   "source": [
    "active_studs.shape"
   ]
  },
  {
   "cell_type": "code",
   "execution_count": 24,
   "metadata": {},
   "outputs": [
    {
     "data": {
      "text/html": [
       "<div>\n",
       "<style scoped>\n",
       "    .dataframe tbody tr th:only-of-type {\n",
       "        vertical-align: middle;\n",
       "    }\n",
       "\n",
       "    .dataframe tbody tr th {\n",
       "        vertical-align: top;\n",
       "    }\n",
       "\n",
       "    .dataframe thead th {\n",
       "        text-align: right;\n",
       "    }\n",
       "</style>\n",
       "<table border=\"1\" class=\"dataframe\">\n",
       "  <thead>\n",
       "    <tr style=\"text-align: right;\">\n",
       "      <th></th>\n",
       "      <th>student_id</th>\n",
       "    </tr>\n",
       "  </thead>\n",
       "  <tbody>\n",
       "    <tr>\n",
       "      <th>0</th>\n",
       "      <td>581585</td>\n",
       "    </tr>\n",
       "    <tr>\n",
       "      <th>1</th>\n",
       "      <td>5723133</td>\n",
       "    </tr>\n",
       "    <tr>\n",
       "      <th>2</th>\n",
       "      <td>3276743</td>\n",
       "    </tr>\n",
       "    <tr>\n",
       "      <th>3</th>\n",
       "      <td>4238589</td>\n",
       "    </tr>\n",
       "    <tr>\n",
       "      <th>4</th>\n",
       "      <td>4475369</td>\n",
       "    </tr>\n",
       "  </tbody>\n",
       "</table>\n",
       "</div>"
      ],
      "text/plain": [
       "   student_id\n",
       "0      581585\n",
       "1     5723133\n",
       "2     3276743\n",
       "3     4238589\n",
       "4     4475369"
      ]
     },
     "execution_count": 24,
     "metadata": {},
     "output_type": "execute_result"
    }
   ],
   "source": [
    "active_studs.head()"
   ]
  },
  {
   "cell_type": "code",
   "execution_count": 131,
   "metadata": {},
   "outputs": [
    {
     "data": {
      "text/plain": [
       "student_id    8341\n",
       "dtype: int64"
      ]
     },
     "execution_count": 131,
     "metadata": {},
     "output_type": "execute_result"
    }
   ],
   "source": [
    "active_studs.nunique()"
   ]
  },
  {
   "cell_type": "code",
   "execution_count": 49,
   "metadata": {},
   "outputs": [
    {
     "name": "stdout",
     "output_type": "stream",
     "text": [
      "<class 'pandas.core.frame.DataFrame'>\n",
      "RangeIndex: 8341 entries, 0 to 8340\n",
      "Data columns (total 1 columns):\n",
      " #   Column      Non-Null Count  Dtype\n",
      "---  ------      --------------  -----\n",
      " 0   student_id  8341 non-null   int64\n",
      "dtypes: int64(1)\n",
      "memory usage: 65.3 KB\n"
     ]
    }
   ],
   "source": [
    "active_studs.info()"
   ]
  },
  {
   "cell_type": "markdown",
   "metadata": {},
   "source": [
    "#### 1.1.3.2. Обработка пропущенных значений (NaN)"
   ]
  },
  {
   "cell_type": "code",
   "execution_count": 53,
   "metadata": {},
   "outputs": [
    {
     "data": {
      "text/plain": [
       "student_id    0\n",
       "dtype: int64"
      ]
     },
     "execution_count": 53,
     "metadata": {},
     "output_type": "execute_result"
    }
   ],
   "source": [
    "active_studs.isna().sum()"
   ]
  },
  {
   "cell_type": "markdown",
   "metadata": {},
   "source": [
    "### 1.1.4. Общая информация для 'проект_2_checks.csv.csv' "
   ]
  },
  {
   "cell_type": "markdown",
   "metadata": {},
   "source": [
    "#### 1.1.4.1. Загрузка и первичный осмотр данных"
   ]
  },
  {
   "cell_type": "code",
   "execution_count": 6,
   "metadata": {},
   "outputs": [],
   "source": [
    "# файл с информацией об оплатах пользователей в дни проведения эксперимента\n",
    "checks = pd.read_csv(download_new_file('https://disk.yandex.ru/d/0yzChiYY2xV8Dg'), sep = \";\")"
   ]
  },
  {
   "cell_type": "code",
   "execution_count": 26,
   "metadata": {},
   "outputs": [
    {
     "data": {
      "text/plain": [
       "(541, 2)"
      ]
     },
     "execution_count": 26,
     "metadata": {},
     "output_type": "execute_result"
    }
   ],
   "source": [
    "checks.shape"
   ]
  },
  {
   "cell_type": "code",
   "execution_count": 27,
   "metadata": {},
   "outputs": [
    {
     "data": {
      "text/html": [
       "<div>\n",
       "<style scoped>\n",
       "    .dataframe tbody tr th:only-of-type {\n",
       "        vertical-align: middle;\n",
       "    }\n",
       "\n",
       "    .dataframe tbody tr th {\n",
       "        vertical-align: top;\n",
       "    }\n",
       "\n",
       "    .dataframe thead th {\n",
       "        text-align: right;\n",
       "    }\n",
       "</style>\n",
       "<table border=\"1\" class=\"dataframe\">\n",
       "  <thead>\n",
       "    <tr style=\"text-align: right;\">\n",
       "      <th></th>\n",
       "      <th>student_id</th>\n",
       "      <th>rev</th>\n",
       "    </tr>\n",
       "  </thead>\n",
       "  <tbody>\n",
       "    <tr>\n",
       "      <th>0</th>\n",
       "      <td>1627</td>\n",
       "      <td>990.0</td>\n",
       "    </tr>\n",
       "    <tr>\n",
       "      <th>1</th>\n",
       "      <td>3185</td>\n",
       "      <td>690.0</td>\n",
       "    </tr>\n",
       "    <tr>\n",
       "      <th>2</th>\n",
       "      <td>25973</td>\n",
       "      <td>690.0</td>\n",
       "    </tr>\n",
       "    <tr>\n",
       "      <th>3</th>\n",
       "      <td>26280</td>\n",
       "      <td>690.0</td>\n",
       "    </tr>\n",
       "    <tr>\n",
       "      <th>4</th>\n",
       "      <td>100300</td>\n",
       "      <td>990.0</td>\n",
       "    </tr>\n",
       "  </tbody>\n",
       "</table>\n",
       "</div>"
      ],
      "text/plain": [
       "   student_id    rev\n",
       "0        1627  990.0\n",
       "1        3185  690.0\n",
       "2       25973  690.0\n",
       "3       26280  690.0\n",
       "4      100300  990.0"
      ]
     },
     "execution_count": 27,
     "metadata": {},
     "output_type": "execute_result"
    }
   ],
   "source": [
    "checks.head()"
   ]
  },
  {
   "cell_type": "code",
   "execution_count": 132,
   "metadata": {},
   "outputs": [
    {
     "data": {
      "text/plain": [
       "student_id    541\n",
       "rev            39\n",
       "dtype: int64"
      ]
     },
     "execution_count": 132,
     "metadata": {},
     "output_type": "execute_result"
    }
   ],
   "source": [
    "checks.nunique()"
   ]
  },
  {
   "cell_type": "code",
   "execution_count": 63,
   "metadata": {},
   "outputs": [
    {
     "name": "stdout",
     "output_type": "stream",
     "text": [
      "<class 'pandas.core.frame.DataFrame'>\n",
      "RangeIndex: 541 entries, 0 to 540\n",
      "Data columns (total 2 columns):\n",
      " #   Column      Non-Null Count  Dtype  \n",
      "---  ------      --------------  -----  \n",
      " 0   student_id  541 non-null    int64  \n",
      " 1   rev         541 non-null    float64\n",
      "dtypes: float64(1), int64(1)\n",
      "memory usage: 8.6 KB\n"
     ]
    }
   ],
   "source": [
    "checks.info()"
   ]
  },
  {
   "cell_type": "code",
   "execution_count": 65,
   "metadata": {},
   "outputs": [
    {
     "data": {
      "text/plain": [
       "count     541.000000\n",
       "mean     1059.752317\n",
       "std       762.712359\n",
       "min       199.000000\n",
       "25%       290.000000\n",
       "50%       840.000000\n",
       "75%      1900.000000\n",
       "max      4650.000000\n",
       "Name: rev, dtype: float64"
      ]
     },
     "execution_count": 65,
     "metadata": {},
     "output_type": "execute_result"
    }
   ],
   "source": [
    "checks.rev.describe()"
   ]
  },
  {
   "cell_type": "markdown",
   "metadata": {},
   "source": [
    "#### 1.1.4.2. Обработка пропущенных значений (NaN)"
   ]
  },
  {
   "cell_type": "code",
   "execution_count": 66,
   "metadata": {},
   "outputs": [
    {
     "data": {
      "text/plain": [
       "student_id    0\n",
       "rev           0\n",
       "dtype: int64"
      ]
     },
     "execution_count": 66,
     "metadata": {},
     "output_type": "execute_result"
    }
   ],
   "source": [
    "checks.isna().sum()"
   ]
  },
  {
   "cell_type": "markdown",
   "metadata": {},
   "source": [
    "### 1.1.5.Проверка корректности логов, баланса групп"
   ]
  },
  {
   "cell_type": "code",
   "execution_count": 6,
   "metadata": {},
   "outputs": [
    {
     "data": {
      "text/html": [
       "<div>\n",
       "<style scoped>\n",
       "    .dataframe tbody tr th:only-of-type {\n",
       "        vertical-align: middle;\n",
       "    }\n",
       "\n",
       "    .dataframe tbody tr th {\n",
       "        vertical-align: top;\n",
       "    }\n",
       "\n",
       "    .dataframe thead th {\n",
       "        text-align: right;\n",
       "    }\n",
       "</style>\n",
       "<table border=\"1\" class=\"dataframe\">\n",
       "  <thead>\n",
       "    <tr style=\"text-align: right;\">\n",
       "      <th></th>\n",
       "      <th>grp</th>\n",
       "      <th>count_grp</th>\n",
       "    </tr>\n",
       "  </thead>\n",
       "  <tbody>\n",
       "    <tr>\n",
       "      <th>0</th>\n",
       "      <td>A</td>\n",
       "      <td>14671</td>\n",
       "    </tr>\n",
       "    <tr>\n",
       "      <th>1</th>\n",
       "      <td>B</td>\n",
       "      <td>59813</td>\n",
       "    </tr>\n",
       "  </tbody>\n",
       "</table>\n",
       "</div>"
      ],
      "text/plain": [
       "  grp  count_grp\n",
       "0   A      14671\n",
       "1   B      59813"
      ]
     },
     "execution_count": 6,
     "metadata": {},
     "output_type": "execute_result"
    }
   ],
   "source": [
    "# распределение пользователей по группам А/В в файле groups\n",
    "groups.groupby('grp', as_index = False).agg(count_grp = ('grp','count'))"
   ]
  },
  {
   "cell_type": "code",
   "execution_count": null,
   "metadata": {},
   "outputs": [],
   "source": [
    "# Вывод:баланс в распределение пользователей по группам нарушен и составляет примерно 1/4"
   ]
  },
  {
   "cell_type": "code",
   "execution_count": 73,
   "metadata": {},
   "outputs": [
    {
     "data": {
      "text/html": [
       "<div>\n",
       "<style scoped>\n",
       "    .dataframe tbody tr th:only-of-type {\n",
       "        vertical-align: middle;\n",
       "    }\n",
       "\n",
       "    .dataframe tbody tr th {\n",
       "        vertical-align: top;\n",
       "    }\n",
       "\n",
       "    .dataframe thead th {\n",
       "        text-align: right;\n",
       "    }\n",
       "</style>\n",
       "<table border=\"1\" class=\"dataframe\">\n",
       "  <thead>\n",
       "    <tr style=\"text-align: right;\">\n",
       "      <th></th>\n",
       "      <th>grp</th>\n",
       "      <th>count_grp</th>\n",
       "    </tr>\n",
       "  </thead>\n",
       "  <tbody>\n",
       "    <tr>\n",
       "      <th>0</th>\n",
       "      <td>A</td>\n",
       "      <td>22</td>\n",
       "    </tr>\n",
       "    <tr>\n",
       "      <th>1</th>\n",
       "      <td>B</td>\n",
       "      <td>70</td>\n",
       "    </tr>\n",
       "  </tbody>\n",
       "</table>\n",
       "</div>"
      ],
      "text/plain": [
       "  grp  count_grp\n",
       "0   A         22\n",
       "1   B         70"
      ]
     },
     "execution_count": 73,
     "metadata": {},
     "output_type": "execute_result"
    }
   ],
   "source": [
    "# распределение пользователей по группам А/В в файле groups_add\n",
    "group_add.groupby('grp', as_index = False).agg(count_grp = ('grp','count'))"
   ]
  },
  {
   "cell_type": "code",
   "execution_count": null,
   "metadata": {},
   "outputs": [],
   "source": [
    "# Вывод:баланс в распределение пользователей по группам нарушен и составляет примерно 2/7"
   ]
  },
  {
   "cell_type": "code",
   "execution_count": 76,
   "metadata": {},
   "outputs": [],
   "source": [
    "#проверка есть ли пересечения между (groups,group_add)\n",
    "merge_groups_group_add = pd.merge(groups,group_add, how='inner', on = 'id')"
   ]
  },
  {
   "cell_type": "code",
   "execution_count": 104,
   "metadata": {},
   "outputs": [
    {
     "data": {
      "text/html": [
       "<div>\n",
       "<style scoped>\n",
       "    .dataframe tbody tr th:only-of-type {\n",
       "        vertical-align: middle;\n",
       "    }\n",
       "\n",
       "    .dataframe tbody tr th {\n",
       "        vertical-align: top;\n",
       "    }\n",
       "\n",
       "    .dataframe thead th {\n",
       "        text-align: right;\n",
       "    }\n",
       "</style>\n",
       "<table border=\"1\" class=\"dataframe\">\n",
       "  <thead>\n",
       "    <tr style=\"text-align: right;\">\n",
       "      <th></th>\n",
       "      <th>id</th>\n",
       "      <th>grp_x</th>\n",
       "      <th>grp_y</th>\n",
       "    </tr>\n",
       "  </thead>\n",
       "  <tbody>\n",
       "  </tbody>\n",
       "</table>\n",
       "</div>"
      ],
      "text/plain": [
       "Empty DataFrame\n",
       "Columns: [id, grp_x, grp_y]\n",
       "Index: []"
      ]
     },
     "execution_count": 104,
     "metadata": {},
     "output_type": "execute_result"
    }
   ],
   "source": [
    "# пересечений нет\n",
    "merge_groups_group_add"
   ]
  },
  {
   "cell_type": "code",
   "execution_count": 12,
   "metadata": {},
   "outputs": [
    {
     "data": {
      "text/html": [
       "<div>\n",
       "<style scoped>\n",
       "    .dataframe tbody tr th:only-of-type {\n",
       "        vertical-align: middle;\n",
       "    }\n",
       "\n",
       "    .dataframe tbody tr th {\n",
       "        vertical-align: top;\n",
       "    }\n",
       "\n",
       "    .dataframe thead th {\n",
       "        text-align: right;\n",
       "    }\n",
       "</style>\n",
       "<table border=\"1\" class=\"dataframe\">\n",
       "  <thead>\n",
       "    <tr style=\"text-align: right;\">\n",
       "      <th></th>\n",
       "      <th>grp</th>\n",
       "      <th>active_group1_count</th>\n",
       "    </tr>\n",
       "  </thead>\n",
       "  <tbody>\n",
       "    <tr>\n",
       "      <th>0</th>\n",
       "      <td>A</td>\n",
       "      <td>1535</td>\n",
       "    </tr>\n",
       "    <tr>\n",
       "      <th>1</th>\n",
       "      <td>B</td>\n",
       "      <td>6793</td>\n",
       "    </tr>\n",
       "  </tbody>\n",
       "</table>\n",
       "</div>"
      ],
      "text/plain": [
       "  grp  active_group1_count\n",
       "0   A                 1535\n",
       "1   B                 6793"
      ]
     },
     "execution_count": 12,
     "metadata": {},
     "output_type": "execute_result"
    }
   ],
   "source": [
    "# активные пользователи из группы (groups)\n",
    "merge_groups_active = pd.merge(groups,active_studs, how = 'inner', left_on = 'id', right_on = 'student_id')\n",
    "\n",
    "merge_groups_active.groupby('grp', as_index=False).agg(active_group1_count = ('grp', 'count'))"
   ]
  },
  {
   "cell_type": "code",
   "execution_count": null,
   "metadata": {},
   "outputs": [],
   "source": [
    "# Вывод:баланс в распределение пользователей по группам нарушен и составляет примерно 1/4"
   ]
  },
  {
   "cell_type": "code",
   "execution_count": 13,
   "metadata": {},
   "outputs": [
    {
     "data": {
      "text/html": [
       "<div>\n",
       "<style scoped>\n",
       "    .dataframe tbody tr th:only-of-type {\n",
       "        vertical-align: middle;\n",
       "    }\n",
       "\n",
       "    .dataframe tbody tr th {\n",
       "        vertical-align: top;\n",
       "    }\n",
       "\n",
       "    .dataframe thead th {\n",
       "        text-align: right;\n",
       "    }\n",
       "</style>\n",
       "<table border=\"1\" class=\"dataframe\">\n",
       "  <thead>\n",
       "    <tr style=\"text-align: right;\">\n",
       "      <th></th>\n",
       "      <th>grp</th>\n",
       "      <th>active_group2_count</th>\n",
       "    </tr>\n",
       "  </thead>\n",
       "  <tbody>\n",
       "    <tr>\n",
       "      <th>0</th>\n",
       "      <td>A</td>\n",
       "      <td>3</td>\n",
       "    </tr>\n",
       "    <tr>\n",
       "      <th>1</th>\n",
       "      <td>B</td>\n",
       "      <td>10</td>\n",
       "    </tr>\n",
       "  </tbody>\n",
       "</table>\n",
       "</div>"
      ],
      "text/plain": [
       "  grp  active_group2_count\n",
       "0   A                    3\n",
       "1   B                   10"
      ]
     },
     "execution_count": 13,
     "metadata": {},
     "output_type": "execute_result"
    }
   ],
   "source": [
    "# активные пользователи из группы (group_add)\n",
    "merge_group_add_active = pd.merge(group_add, active_studs, how = 'inner', left_on = 'id', right_on = 'student_id')\n",
    "\n",
    "merge_group_add_active.groupby('grp', as_index=False).agg(active_group2_count = ('grp', 'count'))"
   ]
  },
  {
   "cell_type": "code",
   "execution_count": null,
   "metadata": {},
   "outputs": [],
   "source": [
    "# Вывод:баланс в распределение пользователей по группам нарушен и составляет примерно 1/4"
   ]
  },
  {
   "cell_type": "code",
   "execution_count": null,
   "metadata": {},
   "outputs": [],
   "source": [
    "#вывод: всего активных пользователей 8341: 8328 (1 группа)+ 13 (2 группа)"
   ]
  },
  {
   "cell_type": "code",
   "execution_count": 15,
   "metadata": {},
   "outputs": [
    {
     "data": {
      "text/plain": [
       "student_id    392\n",
       "rev           392\n",
       "dtype: int64"
      ]
     },
     "execution_count": 15,
     "metadata": {},
     "output_type": "execute_result"
    }
   ],
   "source": [
    "# пользователи с оплатой в дни эксперимента из активных пользователей\n",
    "merge_active_checks = pd.merge(active_studs, checks, how = 'inner', on = 'student_id')\n",
    "merge_active_checks.count()"
   ]
  },
  {
   "cell_type": "code",
   "execution_count": null,
   "metadata": {},
   "outputs": [],
   "source": [
    "# Вывод: не все пользователи с чеками в дни эксперимента есть в файле с активными пользователями в дни эксперимента\n",
    "# следовательно теряются логи в файле с активными пользователями ИЛИ нек корректен файл с чеками"
   ]
  },
  {
   "cell_type": "code",
   "execution_count": 47,
   "metadata": {},
   "outputs": [],
   "source": [
    "# пользователи с оплатой в дни эксперимента из всех пользователей\n",
    "\n",
    "# соединим 2 группы\n",
    "all_groups = pd.concat([groups, group_add], ignore_index=True)\n",
    "\n",
    "# все пользователи с оплатами (вкл неактивных)\n",
    "merge_allgroups_checks = pd.merge(all_groups, checks, how = 'inner', right_on = 'student_id', left_on = 'id')"
   ]
  },
  {
   "cell_type": "code",
   "execution_count": 8,
   "metadata": {},
   "outputs": [
    {
     "data": {
      "text/html": [
       "<div>\n",
       "<style scoped>\n",
       "    .dataframe tbody tr th:only-of-type {\n",
       "        vertical-align: middle;\n",
       "    }\n",
       "\n",
       "    .dataframe tbody tr th {\n",
       "        vertical-align: top;\n",
       "    }\n",
       "\n",
       "    .dataframe thead th {\n",
       "        text-align: right;\n",
       "    }\n",
       "</style>\n",
       "<table border=\"1\" class=\"dataframe\">\n",
       "  <thead>\n",
       "    <tr style=\"text-align: right;\">\n",
       "      <th></th>\n",
       "      <th>grp</th>\n",
       "      <th>active_group2_count</th>\n",
       "    </tr>\n",
       "  </thead>\n",
       "  <tbody>\n",
       "    <tr>\n",
       "      <th>0</th>\n",
       "      <td>A</td>\n",
       "      <td>107</td>\n",
       "    </tr>\n",
       "    <tr>\n",
       "      <th>1</th>\n",
       "      <td>B</td>\n",
       "      <td>434</td>\n",
       "    </tr>\n",
       "  </tbody>\n",
       "</table>\n",
       "</div>"
      ],
      "text/plain": [
       "  grp  active_group2_count\n",
       "0   A                  107\n",
       "1   B                  434"
      ]
     },
     "execution_count": 8,
     "metadata": {},
     "output_type": "execute_result"
    }
   ],
   "source": [
    "merge_allgroups_checks.groupby('grp', as_index=False).agg(active_group2_count = ('grp', 'count'))"
   ]
  },
  {
   "cell_type": "code",
   "execution_count": null,
   "metadata": {},
   "outputs": [],
   "source": [
    "#Вывод: проверили соотношение оплаченных чеков для активных пользователей и для всех пользователей по группам АБ\n",
    "#оно равно 1/4, следовательно потеря логов в файле Активных пользователей идет равномерно \n",
    "#(теряются и платящие и не платящие клиенты) следовательно сохраняется возможность анализировать данные, которые \n",
    "#есть в наличие и параллельно сообщить  о проблеме потери логов "
   ]
  },
  {
   "cell_type": "code",
   "execution_count": 16,
   "metadata": {},
   "outputs": [
    {
     "data": {
      "text/html": [
       "<div>\n",
       "<style scoped>\n",
       "    .dataframe tbody tr th:only-of-type {\n",
       "        vertical-align: middle;\n",
       "    }\n",
       "\n",
       "    .dataframe tbody tr th {\n",
       "        vertical-align: top;\n",
       "    }\n",
       "\n",
       "    .dataframe thead th {\n",
       "        text-align: right;\n",
       "    }\n",
       "</style>\n",
       "<table border=\"1\" class=\"dataframe\">\n",
       "  <thead>\n",
       "    <tr style=\"text-align: right;\">\n",
       "      <th></th>\n",
       "      <th>grp</th>\n",
       "      <th>count_checks_active_group1</th>\n",
       "    </tr>\n",
       "  </thead>\n",
       "  <tbody>\n",
       "    <tr>\n",
       "      <th>0</th>\n",
       "      <td>A</td>\n",
       "      <td>78</td>\n",
       "    </tr>\n",
       "    <tr>\n",
       "      <th>1</th>\n",
       "      <td>B</td>\n",
       "      <td>313</td>\n",
       "    </tr>\n",
       "  </tbody>\n",
       "</table>\n",
       "</div>"
      ],
      "text/plain": [
       "  grp  count_checks_active_group1\n",
       "0   A                          78\n",
       "1   B                         313"
      ]
     },
     "execution_count": 16,
     "metadata": {},
     "output_type": "execute_result"
    }
   ],
   "source": [
    "# пользователи с оплатой в дни эксперимента из активных пользователей группы groups\n",
    "merge_active_groups_checks = pd.merge(merge_groups_active, checks, how = 'inner', on = 'student_id')\n",
    "\n",
    "merge_active_groups_checks.groupby('grp', as_index = False).agg(count_checks_active_group1 = ('grp','count'))"
   ]
  },
  {
   "cell_type": "code",
   "execution_count": null,
   "metadata": {},
   "outputs": [],
   "source": [
    "# Вывод:баланс в распределение пользователей по группам нарушен и составляет примерно 1/4"
   ]
  },
  {
   "cell_type": "code",
   "execution_count": 17,
   "metadata": {},
   "outputs": [
    {
     "data": {
      "text/html": [
       "<div>\n",
       "<style scoped>\n",
       "    .dataframe tbody tr th:only-of-type {\n",
       "        vertical-align: middle;\n",
       "    }\n",
       "\n",
       "    .dataframe tbody tr th {\n",
       "        vertical-align: top;\n",
       "    }\n",
       "\n",
       "    .dataframe thead th {\n",
       "        text-align: right;\n",
       "    }\n",
       "</style>\n",
       "<table border=\"1\" class=\"dataframe\">\n",
       "  <thead>\n",
       "    <tr style=\"text-align: right;\">\n",
       "      <th></th>\n",
       "      <th>id</th>\n",
       "      <th>grp</th>\n",
       "      <th>student_id</th>\n",
       "      <th>rev</th>\n",
       "    </tr>\n",
       "  </thead>\n",
       "  <tbody>\n",
       "    <tr>\n",
       "      <th>0</th>\n",
       "      <td>5740903</td>\n",
       "      <td>B</td>\n",
       "      <td>5740903</td>\n",
       "      <td>1900.0</td>\n",
       "    </tr>\n",
       "  </tbody>\n",
       "</table>\n",
       "</div>"
      ],
      "text/plain": [
       "        id grp  student_id     rev\n",
       "0  5740903   B     5740903  1900.0"
      ]
     },
     "execution_count": 17,
     "metadata": {},
     "output_type": "execute_result"
    }
   ],
   "source": [
    "# пользователи с оплатой в дни эксперимента из активных пользователей  группы group_add\n",
    "merge_active_groupadd_checks = pd.merge(merge_group_add_active, checks, how = 'inner', on = 'student_id')\n",
    "\n",
    "merge_active_groupadd_checks"
   ]
  },
  {
   "cell_type": "code",
   "execution_count": 9,
   "metadata": {},
   "outputs": [
    {
     "data": {
      "text/html": [
       "<div>\n",
       "<style scoped>\n",
       "    .dataframe tbody tr th:only-of-type {\n",
       "        vertical-align: middle;\n",
       "    }\n",
       "\n",
       "    .dataframe tbody tr th {\n",
       "        vertical-align: top;\n",
       "    }\n",
       "\n",
       "    .dataframe thead th {\n",
       "        text-align: right;\n",
       "    }\n",
       "</style>\n",
       "<table border=\"1\" class=\"dataframe\">\n",
       "  <thead>\n",
       "    <tr style=\"text-align: right;\">\n",
       "      <th></th>\n",
       "      <th>grp</th>\n",
       "      <th>active_count</th>\n",
       "    </tr>\n",
       "  </thead>\n",
       "  <tbody>\n",
       "    <tr>\n",
       "      <th>0</th>\n",
       "      <td>A</td>\n",
       "      <td>1538</td>\n",
       "    </tr>\n",
       "    <tr>\n",
       "      <th>1</th>\n",
       "      <td>B</td>\n",
       "      <td>6803</td>\n",
       "    </tr>\n",
       "  </tbody>\n",
       "</table>\n",
       "</div>"
      ],
      "text/plain": [
       "  grp  active_count\n",
       "0   A          1538\n",
       "1   B          6803"
      ]
     },
     "execution_count": 9,
     "metadata": {},
     "output_type": "execute_result"
    }
   ],
   "source": [
    "# активные пользователя по группам (group_add groups)\n",
    "merge_allgroups_active = pd.merge (all_groups, active_studs, how = 'inner', left_on = 'id', right_on = 'student_id')\n",
    "\n",
    "merge_allgroups_active.groupby('grp', as_index = False).agg(active_count = ('grp','count'))"
   ]
  },
  {
   "cell_type": "code",
   "execution_count": null,
   "metadata": {},
   "outputs": [],
   "source": [
    "# Вывод:баланс в распределение пользователей по группам нарушен и составляет примерно 1/4"
   ]
  },
  {
   "cell_type": "code",
   "execution_count": 11,
   "metadata": {},
   "outputs": [
    {
     "data": {
      "text/html": [
       "<div>\n",
       "<style scoped>\n",
       "    .dataframe tbody tr th:only-of-type {\n",
       "        vertical-align: middle;\n",
       "    }\n",
       "\n",
       "    .dataframe tbody tr th {\n",
       "        vertical-align: top;\n",
       "    }\n",
       "\n",
       "    .dataframe thead th {\n",
       "        text-align: right;\n",
       "    }\n",
       "</style>\n",
       "<table border=\"1\" class=\"dataframe\">\n",
       "  <thead>\n",
       "    <tr style=\"text-align: right;\">\n",
       "      <th></th>\n",
       "      <th>grp</th>\n",
       "      <th>active_count</th>\n",
       "    </tr>\n",
       "  </thead>\n",
       "  <tbody>\n",
       "    <tr>\n",
       "      <th>0</th>\n",
       "      <td>A</td>\n",
       "      <td>78</td>\n",
       "    </tr>\n",
       "    <tr>\n",
       "      <th>1</th>\n",
       "      <td>B</td>\n",
       "      <td>314</td>\n",
       "    </tr>\n",
       "  </tbody>\n",
       "</table>\n",
       "</div>"
      ],
      "text/plain": [
       "  grp  active_count\n",
       "0   A            78\n",
       "1   B           314"
      ]
     },
     "execution_count": 11,
     "metadata": {},
     "output_type": "execute_result"
    }
   ],
   "source": [
    "# активные пользователи с оплатами по группам (group_add groups)\n",
    "merge_active_checks = pd.merge(merge_allgroups_active, checks, how = 'inner', on = 'student_id')\n",
    "\n",
    "merge_active_checks.groupby('grp', as_index = False).agg(active_count = ('grp','count'))"
   ]
  },
  {
   "cell_type": "code",
   "execution_count": null,
   "metadata": {},
   "outputs": [],
   "source": [
    "# Вывод:баланс в распределение пользователей по группам нарушен и составляет примерно 1/4"
   ]
  },
  {
   "cell_type": "markdown",
   "metadata": {},
   "source": [
    "### Вывод по п. 1.1.5.: \n",
    "- Выявлена некорректрость логов:\n",
    "Оплату в дни эксперимента провели 541 пользователя, из них только 392 пользователя есть в файле активных пользователей, следовательно идет потеря логов в файле ('Проект_2_active_studs.csv'), стоит уточнить механизм сбора логов и устранить проблемы для корректного проведения А/В тестирования.\n",
    "\n",
    "Решение: сообщим о проблеме потери логов + также выявили, что соотношение платящих пользователей к активным И платящих пользователей ко всем из групп АБ примерно одинаково и равно 1/4, следовательно логи теряются равномерно (и платящих клиентов и не платящих), следовательно продолжаем анализ имеющихся данных.\n",
    "\n",
    "- Баланс в распределение пользователей по группам А/Б нарушен и составляет примерно 1/4\n",
    "\n",
    "Решение: для сравнения групп будет применять t-тест Уэлча \n"
   ]
  },
  {
   "cell_type": "markdown",
   "metadata": {},
   "source": [
    "### 1.1.6. Подготовка датасета для анализа"
   ]
  },
  {
   "cell_type": "code",
   "execution_count": 7,
   "metadata": {},
   "outputs": [],
   "source": [
    "# все активные пользователи в дни эксперимента с оплатами и без\n",
    "\n",
    "# соединим 2 группы\n",
    "all_groups = pd.concat([groups, group_add], ignore_index=True)\n",
    "\n",
    "# активные пользователя по группам (group_add groups)\n",
    "merge_allgroups_active = pd.merge (all_groups, active_studs, how = 'inner', left_on = 'id', right_on = 'student_id')\n",
    "\n",
    "all_active_users = pd.merge(merge_allgroups_active, checks, how = 'left', on = 'student_id').fillna(0)"
   ]
  },
  {
   "cell_type": "code",
   "execution_count": 8,
   "metadata": {},
   "outputs": [],
   "source": [
    "all_active_users = all_active_users.drop('student_id', axis = 1)"
   ]
  },
  {
   "cell_type": "code",
   "execution_count": 9,
   "metadata": {},
   "outputs": [],
   "source": [
    "all_active_users['is_paying'] = all_active_users['rev']>0"
   ]
  },
  {
   "cell_type": "code",
   "execution_count": 10,
   "metadata": {},
   "outputs": [
    {
     "data": {
      "text/html": [
       "<div>\n",
       "<style scoped>\n",
       "    .dataframe tbody tr th:only-of-type {\n",
       "        vertical-align: middle;\n",
       "    }\n",
       "\n",
       "    .dataframe tbody tr th {\n",
       "        vertical-align: top;\n",
       "    }\n",
       "\n",
       "    .dataframe thead th {\n",
       "        text-align: right;\n",
       "    }\n",
       "</style>\n",
       "<table border=\"1\" class=\"dataframe\">\n",
       "  <thead>\n",
       "    <tr style=\"text-align: right;\">\n",
       "      <th></th>\n",
       "      <th>grp</th>\n",
       "      <th>is_paying</th>\n",
       "      <th>count</th>\n",
       "    </tr>\n",
       "  </thead>\n",
       "  <tbody>\n",
       "    <tr>\n",
       "      <th>0</th>\n",
       "      <td>A</td>\n",
       "      <td>False</td>\n",
       "      <td>1460</td>\n",
       "    </tr>\n",
       "    <tr>\n",
       "      <th>1</th>\n",
       "      <td>A</td>\n",
       "      <td>True</td>\n",
       "      <td>78</td>\n",
       "    </tr>\n",
       "    <tr>\n",
       "      <th>2</th>\n",
       "      <td>B</td>\n",
       "      <td>False</td>\n",
       "      <td>6489</td>\n",
       "    </tr>\n",
       "    <tr>\n",
       "      <th>3</th>\n",
       "      <td>B</td>\n",
       "      <td>True</td>\n",
       "      <td>314</td>\n",
       "    </tr>\n",
       "  </tbody>\n",
       "</table>\n",
       "</div>"
      ],
      "text/plain": [
       "  grp  is_paying  count\n",
       "0   A      False   1460\n",
       "1   A       True     78\n",
       "2   B      False   6489\n",
       "3   B       True    314"
      ]
     },
     "execution_count": 10,
     "metadata": {},
     "output_type": "execute_result"
    }
   ],
   "source": [
    "all_active_users.groupby(['grp','is_paying'], as_index = False).agg(count = ('grp','count'))"
   ]
  },
  {
   "cell_type": "code",
   "execution_count": 11,
   "metadata": {},
   "outputs": [
    {
     "data": {
      "text/html": [
       "<div>\n",
       "<style scoped>\n",
       "    .dataframe tbody tr th:only-of-type {\n",
       "        vertical-align: middle;\n",
       "    }\n",
       "\n",
       "    .dataframe tbody tr th {\n",
       "        vertical-align: top;\n",
       "    }\n",
       "\n",
       "    .dataframe thead th {\n",
       "        text-align: right;\n",
       "    }\n",
       "</style>\n",
       "<table border=\"1\" class=\"dataframe\">\n",
       "  <thead>\n",
       "    <tr style=\"text-align: right;\">\n",
       "      <th></th>\n",
       "      <th>grp</th>\n",
       "      <th>is_paying</th>\n",
       "      <th>count</th>\n",
       "    </tr>\n",
       "  </thead>\n",
       "  <tbody>\n",
       "    <tr>\n",
       "      <th>0</th>\n",
       "      <td>A</td>\n",
       "      <td>False</td>\n",
       "      <td>0.0000</td>\n",
       "    </tr>\n",
       "    <tr>\n",
       "      <th>1</th>\n",
       "      <td>A</td>\n",
       "      <td>True</td>\n",
       "      <td>72820.0000</td>\n",
       "    </tr>\n",
       "    <tr>\n",
       "      <th>2</th>\n",
       "      <td>B</td>\n",
       "      <td>False</td>\n",
       "      <td>0.0000</td>\n",
       "    </tr>\n",
       "    <tr>\n",
       "      <th>3</th>\n",
       "      <td>B</td>\n",
       "      <td>True</td>\n",
       "      <td>394974.0035</td>\n",
       "    </tr>\n",
       "  </tbody>\n",
       "</table>\n",
       "</div>"
      ],
      "text/plain": [
       "  grp  is_paying        count\n",
       "0   A      False       0.0000\n",
       "1   A       True   72820.0000\n",
       "2   B      False       0.0000\n",
       "3   B       True  394974.0035"
      ]
     },
     "execution_count": 11,
     "metadata": {},
     "output_type": "execute_result"
    }
   ],
   "source": [
    "all_active_users.groupby(['grp','is_paying'], as_index = False).agg(count = ('rev','sum'))"
   ]
  },
  {
   "cell_type": "code",
   "execution_count": 81,
   "metadata": {},
   "outputs": [
    {
     "data": {
      "text/html": [
       "<div>\n",
       "<style scoped>\n",
       "    .dataframe tbody tr th:only-of-type {\n",
       "        vertical-align: middle;\n",
       "    }\n",
       "\n",
       "    .dataframe tbody tr th {\n",
       "        vertical-align: top;\n",
       "    }\n",
       "\n",
       "    .dataframe thead th {\n",
       "        text-align: right;\n",
       "    }\n",
       "</style>\n",
       "<table border=\"1\" class=\"dataframe\">\n",
       "  <thead>\n",
       "    <tr style=\"text-align: right;\">\n",
       "      <th></th>\n",
       "      <th>id</th>\n",
       "      <th>grp</th>\n",
       "      <th>rev</th>\n",
       "      <th>is_paying</th>\n",
       "    </tr>\n",
       "  </thead>\n",
       "  <tbody>\n",
       "    <tr>\n",
       "      <th>0</th>\n",
       "      <td>1489</td>\n",
       "      <td>B</td>\n",
       "      <td>0.0</td>\n",
       "      <td>False</td>\n",
       "    </tr>\n",
       "    <tr>\n",
       "      <th>1</th>\n",
       "      <td>1627</td>\n",
       "      <td>A</td>\n",
       "      <td>990.0</td>\n",
       "      <td>True</td>\n",
       "    </tr>\n",
       "    <tr>\n",
       "      <th>2</th>\n",
       "      <td>1768</td>\n",
       "      <td>B</td>\n",
       "      <td>0.0</td>\n",
       "      <td>False</td>\n",
       "    </tr>\n",
       "    <tr>\n",
       "      <th>3</th>\n",
       "      <td>1783</td>\n",
       "      <td>B</td>\n",
       "      <td>0.0</td>\n",
       "      <td>False</td>\n",
       "    </tr>\n",
       "    <tr>\n",
       "      <th>4</th>\n",
       "      <td>1794</td>\n",
       "      <td>A</td>\n",
       "      <td>0.0</td>\n",
       "      <td>False</td>\n",
       "    </tr>\n",
       "    <tr>\n",
       "      <th>...</th>\n",
       "      <td>...</td>\n",
       "      <td>...</td>\n",
       "      <td>...</td>\n",
       "      <td>...</td>\n",
       "    </tr>\n",
       "    <tr>\n",
       "      <th>74571</th>\n",
       "      <td>200247820</td>\n",
       "      <td>B</td>\n",
       "      <td>0.0</td>\n",
       "      <td>False</td>\n",
       "    </tr>\n",
       "    <tr>\n",
       "      <th>74572</th>\n",
       "      <td>201032527</td>\n",
       "      <td>B</td>\n",
       "      <td>0.0</td>\n",
       "      <td>False</td>\n",
       "    </tr>\n",
       "    <tr>\n",
       "      <th>74573</th>\n",
       "      <td>201067612</td>\n",
       "      <td>B</td>\n",
       "      <td>0.0</td>\n",
       "      <td>False</td>\n",
       "    </tr>\n",
       "    <tr>\n",
       "      <th>74574</th>\n",
       "      <td>201067653</td>\n",
       "      <td>B</td>\n",
       "      <td>0.0</td>\n",
       "      <td>False</td>\n",
       "    </tr>\n",
       "    <tr>\n",
       "      <th>74575</th>\n",
       "      <td>201067659</td>\n",
       "      <td>B</td>\n",
       "      <td>0.0</td>\n",
       "      <td>False</td>\n",
       "    </tr>\n",
       "  </tbody>\n",
       "</table>\n",
       "<p>74576 rows × 4 columns</p>\n",
       "</div>"
      ],
      "text/plain": [
       "              id grp    rev  is_paying\n",
       "0           1489   B    0.0      False\n",
       "1           1627   A  990.0       True\n",
       "2           1768   B    0.0      False\n",
       "3           1783   B    0.0      False\n",
       "4           1794   A    0.0      False\n",
       "...          ...  ..    ...        ...\n",
       "74571  200247820   B    0.0      False\n",
       "74572  201032527   B    0.0      False\n",
       "74573  201067612   B    0.0      False\n",
       "74574  201067653   B    0.0      False\n",
       "74575  201067659   B    0.0      False\n",
       "\n",
       "[74576 rows x 4 columns]"
      ]
     },
     "execution_count": 81,
     "metadata": {},
     "output_type": "execute_result"
    }
   ],
   "source": [
    "# все  пользователи с оплатами и без (второй датасет)\n",
    "all_users = pd.merge(all_groups,checks, how = 'left', left_on = 'id', right_on = 'student_id').fillna(0)\n",
    "all_users = all_users.drop('student_id', axis = 1)\n",
    "all_users['is_paying'] = all_users['rev']>0\n",
    "all_users.groupby(['grp','is_paying'], as_index = False).agg(count = ('id','count'))\n",
    "all_users"
   ]
  },
  {
   "cell_type": "markdown",
   "metadata": {},
   "source": [
    "## Вывод по п.1.1. (повтор вывода из п. 1.1.5.):\n",
    "    -Выявлена некорректрость логов: Оплату в дни эксперимента провели 541 пользователя, из них только 392 пользователя\n",
    "есть в файле активных пользователей, следовательно идет потеря логов в файле ('Проект2active_studs.csv'), \n",
    "стоит уточнить механизм сбора логов и устранить проблемы для корректного проведения А/В тестирования.\n",
    "    \n",
    "Решение: сообщим о проблеме потери логов + также выявили, что соотношение платящих пользователей к активным И \n",
    "платящих пользователей ко всем из групп АБ примерно одинаково и равно 1/4, следовательно логи теряются равномерно \n",
    "(и платящих клиентов и не платящих), следовательно продолжаем анализ имеющихся данных.\n",
    "\n",
    "    -Баланс в распределение пользователей по группам А/Б нарушен и составляет примерно 1/4\n",
    "\n",
    "Решение: для сравнения групп будет применять t-тест Уэлча"
   ]
  },
  {
   "cell_type": "markdown",
   "metadata": {},
   "source": [
    "## 1.2. Анализ метрик"
   ]
  },
  {
   "cell_type": "markdown",
   "metadata": {},
   "source": [
    "В качетсвет метрик выбраны:\n",
    "\n",
    "**ARPU**               (ttest Уэлча)\n",
    "\n",
    "**ARPPU**              (ttest Уэлча)\n",
    "\n",
    "**Конверсия в оплату** (χ²-тест на независимость)\n",
    "\n",
    "Для ARPU и ARPPU выбран метод **ttest Уэлча**, перед ним не провожу тест на нормальность и дисперсию, аргументирую свою позицию:\n",
    "\n",
    "\n",
    "(Не провожу тест на нормальность - почему:\\\n",
    "2 наши выборки > 30, соответственно они попадают под ЦПТ, которая гласит, что если выборка >30, то ее выборочные средние распределятся нормальным образом (если мы возьмем из выборки 100 выборок, найдем их среднее, то они распределятся нормальным образом по ЦПТ).\n",
    "по ссылкам:\\\n",
    "1)Лекция из курса\n",
    "(https://lab.karpov.courses/learning/622/module/5143/lesson/42073/115617/551293/)\n",
    "\"Считается, что для малых размеров выборок (обычно называют число 30) нормальность данных достаточно критична для t-теста. Однако для таких масштабов, с которыми работает индустрия, это не особо важно: основой t-теста является ЦПТ, а она работает даже с ненормальными ГС - главное собрать выборку побольше. К тому же встретить нормальные данные в реальной жизни практически невозможно.\"\\\n",
    "2)Статья \n",
    "(https://docs.google.com/document/d/1Nbzp0-368G7iGw7eKg6RZQGWNeHh_lU_6u0CvXCgVuY/edit?tab=t.0)\n",
    "тут вся статья про то, что для ttestов не нужны норм распределения\\\n",
    "Итог: проанализировав данный материал, приняла решение не проводить тест на нормальность\n",
    "\n",
    "\n",
    "Не провожу тест на дисперсию - почему:\\\n",
    "1)согласно данной лекции (https://lab.karpov.courses/learning/622/module/5143/lesson/42073/115617/670318/) \"Более того, нет ничего дурного в том, чтобы использовать t-тест Уэлча (с поправкой на неравенство дисперсий) по умолчанию - в большинстве случаев хуже не будет, а лучше стать может.\" - в связи с этим взяла сразу именно ттест Уэлча, а не просто ттест, который примет во внимание разность дисперсий, если она уже есть\\\n",
    "2)согласно статьи (https://docs.google.com/document/d/1Nbzp0-368G7iGw7eKg6RZQGWNeHh_lU_6u0CvXCgVuY/edit?tab=t.0#heading=h.wgnpjs2okfm2) \"Но все же, тест Уэлча отдает вполне релевантные результаты, и можно по дефолту использовать его в независимости от размеров выборок и дисперсий (это лучше, чем вначале делать тест на гомогенность для выборка между критериями Сьюдента и Уэлча).\" - в связи с этим не делала проверку на гомогенность, а сразу взяла Уэлча, тк баланс разный в группах\\\n",
    "3)согласно статьи(https://habr.com/ru/companies/X5Tech/articles/896182/) \"preliminary test'ы для определения \"Welch или не Welch?\" не нужны не использовать Welch's test по дефолту: Имейте основания считать, что дисперсия изменится (например, у вас разные группы в A/B, и само это различие и есть то, что тестируется) в случае, если у вас разный сплит или/и малые выборки.\" - в связи с этим не проводила preliminary test, а сразу взяла Уэлча только из-за того, что выборки разных размеров\\\n",
    "Итог: проанализировав данный материал, приняла решение не проводить тест на дисперсию, а сразу взяла тест Уэлча, тк размер выборок отличается в 4 раза)"
   ]
  },
  {
   "cell_type": "code",
   "execution_count": 12,
   "metadata": {},
   "outputs": [
    {
     "data": {
      "text/html": [
       "<div>\n",
       "<style scoped>\n",
       "    .dataframe tbody tr th:only-of-type {\n",
       "        vertical-align: middle;\n",
       "    }\n",
       "\n",
       "    .dataframe tbody tr th {\n",
       "        vertical-align: top;\n",
       "    }\n",
       "\n",
       "    .dataframe thead th {\n",
       "        text-align: right;\n",
       "    }\n",
       "</style>\n",
       "<table border=\"1\" class=\"dataframe\">\n",
       "  <thead>\n",
       "    <tr style=\"text-align: right;\">\n",
       "      <th></th>\n",
       "      <th>id</th>\n",
       "      <th>grp</th>\n",
       "      <th>rev</th>\n",
       "      <th>is_paying</th>\n",
       "    </tr>\n",
       "  </thead>\n",
       "  <tbody>\n",
       "    <tr>\n",
       "      <th>0</th>\n",
       "      <td>1627</td>\n",
       "      <td>A</td>\n",
       "      <td>990.0</td>\n",
       "      <td>True</td>\n",
       "    </tr>\n",
       "    <tr>\n",
       "      <th>3</th>\n",
       "      <td>3391</td>\n",
       "      <td>A</td>\n",
       "      <td>0.0</td>\n",
       "      <td>False</td>\n",
       "    </tr>\n",
       "    <tr>\n",
       "      <th>13</th>\n",
       "      <td>109623</td>\n",
       "      <td>A</td>\n",
       "      <td>0.0</td>\n",
       "      <td>False</td>\n",
       "    </tr>\n",
       "    <tr>\n",
       "      <th>15</th>\n",
       "      <td>133678</td>\n",
       "      <td>A</td>\n",
       "      <td>0.0</td>\n",
       "      <td>False</td>\n",
       "    </tr>\n",
       "    <tr>\n",
       "      <th>23</th>\n",
       "      <td>175944</td>\n",
       "      <td>A</td>\n",
       "      <td>0.0</td>\n",
       "      <td>False</td>\n",
       "    </tr>\n",
       "    <tr>\n",
       "      <th>...</th>\n",
       "      <td>...</td>\n",
       "      <td>...</td>\n",
       "      <td>...</td>\n",
       "      <td>...</td>\n",
       "    </tr>\n",
       "    <tr>\n",
       "      <th>8319</th>\n",
       "      <td>5668989</td>\n",
       "      <td>A</td>\n",
       "      <td>0.0</td>\n",
       "      <td>False</td>\n",
       "    </tr>\n",
       "    <tr>\n",
       "      <th>8327</th>\n",
       "      <td>5690284</td>\n",
       "      <td>A</td>\n",
       "      <td>0.0</td>\n",
       "      <td>False</td>\n",
       "    </tr>\n",
       "    <tr>\n",
       "      <th>8329</th>\n",
       "      <td>5723133</td>\n",
       "      <td>A</td>\n",
       "      <td>0.0</td>\n",
       "      <td>False</td>\n",
       "    </tr>\n",
       "    <tr>\n",
       "      <th>8332</th>\n",
       "      <td>5729371</td>\n",
       "      <td>A</td>\n",
       "      <td>0.0</td>\n",
       "      <td>False</td>\n",
       "    </tr>\n",
       "    <tr>\n",
       "      <th>8338</th>\n",
       "      <td>5870856</td>\n",
       "      <td>A</td>\n",
       "      <td>0.0</td>\n",
       "      <td>False</td>\n",
       "    </tr>\n",
       "  </tbody>\n",
       "</table>\n",
       "<p>1538 rows × 4 columns</p>\n",
       "</div>"
      ],
      "text/plain": [
       "           id grp    rev  is_paying\n",
       "0        1627   A  990.0       True\n",
       "3        3391   A    0.0      False\n",
       "13     109623   A    0.0      False\n",
       "15     133678   A    0.0      False\n",
       "23     175944   A    0.0      False\n",
       "...       ...  ..    ...        ...\n",
       "8319  5668989   A    0.0      False\n",
       "8327  5690284   A    0.0      False\n",
       "8329  5723133   A    0.0      False\n",
       "8332  5729371   A    0.0      False\n",
       "8338  5870856   A    0.0      False\n",
       "\n",
       "[1538 rows x 4 columns]"
      ]
     },
     "execution_count": 12,
     "metadata": {},
     "output_type": "execute_result"
    }
   ],
   "source": [
    "# Группа А\n",
    "group_a = all_active_users[all_active_users['grp'] == 'A']\n",
    "group_a"
   ]
  },
  {
   "cell_type": "code",
   "execution_count": 13,
   "metadata": {},
   "outputs": [
    {
     "data": {
      "text/html": [
       "<div>\n",
       "<style scoped>\n",
       "    .dataframe tbody tr th:only-of-type {\n",
       "        vertical-align: middle;\n",
       "    }\n",
       "\n",
       "    .dataframe tbody tr th {\n",
       "        vertical-align: top;\n",
       "    }\n",
       "\n",
       "    .dataframe thead th {\n",
       "        text-align: right;\n",
       "    }\n",
       "</style>\n",
       "<table border=\"1\" class=\"dataframe\">\n",
       "  <thead>\n",
       "    <tr style=\"text-align: right;\">\n",
       "      <th></th>\n",
       "      <th>id</th>\n",
       "      <th>grp</th>\n",
       "      <th>rev</th>\n",
       "      <th>is_paying</th>\n",
       "    </tr>\n",
       "  </thead>\n",
       "  <tbody>\n",
       "    <tr>\n",
       "      <th>1</th>\n",
       "      <td>2085</td>\n",
       "      <td>B</td>\n",
       "      <td>0.0</td>\n",
       "      <td>False</td>\n",
       "    </tr>\n",
       "    <tr>\n",
       "      <th>2</th>\n",
       "      <td>2215</td>\n",
       "      <td>B</td>\n",
       "      <td>0.0</td>\n",
       "      <td>False</td>\n",
       "    </tr>\n",
       "    <tr>\n",
       "      <th>4</th>\n",
       "      <td>3401</td>\n",
       "      <td>B</td>\n",
       "      <td>0.0</td>\n",
       "      <td>False</td>\n",
       "    </tr>\n",
       "    <tr>\n",
       "      <th>5</th>\n",
       "      <td>22994</td>\n",
       "      <td>B</td>\n",
       "      <td>0.0</td>\n",
       "      <td>False</td>\n",
       "    </tr>\n",
       "    <tr>\n",
       "      <th>6</th>\n",
       "      <td>26899</td>\n",
       "      <td>B</td>\n",
       "      <td>0.0</td>\n",
       "      <td>False</td>\n",
       "    </tr>\n",
       "    <tr>\n",
       "      <th>...</th>\n",
       "      <td>...</td>\n",
       "      <td>...</td>\n",
       "      <td>...</td>\n",
       "      <td>...</td>\n",
       "    </tr>\n",
       "    <tr>\n",
       "      <th>8335</th>\n",
       "      <td>5740903</td>\n",
       "      <td>B</td>\n",
       "      <td>1900.0</td>\n",
       "      <td>True</td>\n",
       "    </tr>\n",
       "    <tr>\n",
       "      <th>8336</th>\n",
       "      <td>5760471</td>\n",
       "      <td>B</td>\n",
       "      <td>0.0</td>\n",
       "      <td>False</td>\n",
       "    </tr>\n",
       "    <tr>\n",
       "      <th>8337</th>\n",
       "      <td>5777081</td>\n",
       "      <td>B</td>\n",
       "      <td>0.0</td>\n",
       "      <td>False</td>\n",
       "    </tr>\n",
       "    <tr>\n",
       "      <th>8339</th>\n",
       "      <td>5945085</td>\n",
       "      <td>B</td>\n",
       "      <td>0.0</td>\n",
       "      <td>False</td>\n",
       "    </tr>\n",
       "    <tr>\n",
       "      <th>8340</th>\n",
       "      <td>5951797</td>\n",
       "      <td>B</td>\n",
       "      <td>0.0</td>\n",
       "      <td>False</td>\n",
       "    </tr>\n",
       "  </tbody>\n",
       "</table>\n",
       "<p>6803 rows × 4 columns</p>\n",
       "</div>"
      ],
      "text/plain": [
       "           id grp     rev  is_paying\n",
       "1        2085   B     0.0      False\n",
       "2        2215   B     0.0      False\n",
       "4        3401   B     0.0      False\n",
       "5       22994   B     0.0      False\n",
       "6       26899   B     0.0      False\n",
       "...       ...  ..     ...        ...\n",
       "8335  5740903   B  1900.0       True\n",
       "8336  5760471   B     0.0      False\n",
       "8337  5777081   B     0.0      False\n",
       "8339  5945085   B     0.0      False\n",
       "8340  5951797   B     0.0      False\n",
       "\n",
       "[6803 rows x 4 columns]"
      ]
     },
     "execution_count": 13,
     "metadata": {},
     "output_type": "execute_result"
    }
   ],
   "source": [
    "# Группа Б\n",
    "group_b = all_active_users[all_active_users['grp'] == 'B']\n",
    "group_b"
   ]
  },
  {
   "cell_type": "markdown",
   "metadata": {},
   "source": [
    "### 1.2.1. ARPU \n",
    "(Средний доход на пользователя = (общий доход в группе) / (все активные пользователи))"
   ]
  },
  {
   "cell_type": "markdown",
   "metadata": {},
   "source": [
    "#### 1.2.1.1 Расчет ARPU по группам "
   ]
  },
  {
   "cell_type": "code",
   "execution_count": 14,
   "metadata": {},
   "outputs": [],
   "source": [
    "revenue_a = group_a['rev'].sum()"
   ]
  },
  {
   "cell_type": "code",
   "execution_count": 15,
   "metadata": {},
   "outputs": [
    {
     "data": {
      "text/plain": [
       "72820.0"
      ]
     },
     "execution_count": 15,
     "metadata": {},
     "output_type": "execute_result"
    }
   ],
   "source": [
    "revenue_a"
   ]
  },
  {
   "cell_type": "code",
   "execution_count": 16,
   "metadata": {},
   "outputs": [],
   "source": [
    "users_a = len(group_a)"
   ]
  },
  {
   "cell_type": "code",
   "execution_count": 17,
   "metadata": {},
   "outputs": [
    {
     "data": {
      "text/plain": [
       "1538"
      ]
     },
     "execution_count": 17,
     "metadata": {},
     "output_type": "execute_result"
    }
   ],
   "source": [
    "users_a"
   ]
  },
  {
   "cell_type": "code",
   "execution_count": 18,
   "metadata": {},
   "outputs": [],
   "source": [
    "arpu_a = revenue_a/users_a"
   ]
  },
  {
   "cell_type": "code",
   "execution_count": 19,
   "metadata": {},
   "outputs": [
    {
     "data": {
      "text/plain": [
       "47.34720416124838"
      ]
     },
     "execution_count": 19,
     "metadata": {},
     "output_type": "execute_result"
    }
   ],
   "source": [
    "arpu_a"
   ]
  },
  {
   "cell_type": "code",
   "execution_count": 20,
   "metadata": {},
   "outputs": [],
   "source": [
    "revenue_b = group_b['rev'].sum()"
   ]
  },
  {
   "cell_type": "code",
   "execution_count": 21,
   "metadata": {},
   "outputs": [
    {
     "data": {
      "text/plain": [
       "394974.00350000005"
      ]
     },
     "execution_count": 21,
     "metadata": {},
     "output_type": "execute_result"
    }
   ],
   "source": [
    "revenue_b"
   ]
  },
  {
   "cell_type": "code",
   "execution_count": 22,
   "metadata": {},
   "outputs": [],
   "source": [
    "users_b = len(group_b)"
   ]
  },
  {
   "cell_type": "code",
   "execution_count": 23,
   "metadata": {},
   "outputs": [
    {
     "data": {
      "text/plain": [
       "6803"
      ]
     },
     "execution_count": 23,
     "metadata": {},
     "output_type": "execute_result"
    }
   ],
   "source": [
    "users_b"
   ]
  },
  {
   "cell_type": "code",
   "execution_count": 24,
   "metadata": {},
   "outputs": [],
   "source": [
    "arpu_b = revenue_b/users_b"
   ]
  },
  {
   "cell_type": "code",
   "execution_count": 25,
   "metadata": {},
   "outputs": [
    {
     "data": {
      "text/plain": [
       "58.058798103777754"
      ]
     },
     "execution_count": 25,
     "metadata": {},
     "output_type": "execute_result"
    }
   ],
   "source": [
    "arpu_b"
   ]
  },
  {
   "cell_type": "code",
   "execution_count": null,
   "metadata": {},
   "outputs": [],
   "source": [
    "# Вывод: в средних сзачениях ARPU по группам есть разница"
   ]
  },
  {
   "cell_type": "markdown",
   "metadata": {},
   "source": [
    "#### 1.2.1.2. Расчет стат значимости различий ARPU по группам \n",
    "Тк n>30 в каждой группе, следовтельно ЦПТ уже будет работать, а значит мы можем использовать ttest\n",
    "\n",
    "Тк группы А/Б различаются в размерах в 4 раза (существенно), то применяем ttest Уэлча для проверки стат значимости различий по метрикам, тест на дисперсию не провожу, тк достаточно условия о значимых различиях при сплитовании групп\n"
   ]
  },
  {
   "cell_type": "markdown",
   "metadata": {},
   "source": [
    "Н0 = Средний ARPU в группах A и B равен\n",
    "\n",
    "Н1 = Средний ARPU в группах A и B не равен"
   ]
  },
  {
   "cell_type": "code",
   "execution_count": 26,
   "metadata": {},
   "outputs": [
    {
     "data": {
      "text/plain": [
       "0       990.0\n",
       "3         0.0\n",
       "13        0.0\n",
       "15        0.0\n",
       "23        0.0\n",
       "        ...  \n",
       "8319      0.0\n",
       "8327      0.0\n",
       "8329      0.0\n",
       "8332      0.0\n",
       "8338      0.0\n",
       "Name: rev, Length: 1538, dtype: float64"
      ]
     },
     "execution_count": 26,
     "metadata": {},
     "output_type": "execute_result"
    }
   ],
   "source": [
    "group_a['rev']"
   ]
  },
  {
   "cell_type": "code",
   "execution_count": 27,
   "metadata": {},
   "outputs": [
    {
     "data": {
      "text/plain": [
       "1          0.0\n",
       "2          0.0\n",
       "4          0.0\n",
       "5          0.0\n",
       "6          0.0\n",
       "         ...  \n",
       "8335    1900.0\n",
       "8336       0.0\n",
       "8337       0.0\n",
       "8339       0.0\n",
       "8340       0.0\n",
       "Name: rev, Length: 6803, dtype: float64"
      ]
     },
     "execution_count": 27,
     "metadata": {},
     "output_type": "execute_result"
    }
   ],
   "source": [
    "group_b['rev']"
   ]
  },
  {
   "cell_type": "code",
   "execution_count": 29,
   "metadata": {},
   "outputs": [
    {
     "data": {
      "text/plain": [
       "Ttest_indResult(statistic=-1.286373849379703, pvalue=0.19843583641451018)"
      ]
     },
     "execution_count": 29,
     "metadata": {},
     "output_type": "execute_result"
    }
   ],
   "source": [
    "st.ttest_ind(group_a['rev'], group_b['rev'], equal_var=False)"
   ]
  },
  {
   "cell_type": "markdown",
   "metadata": {},
   "source": [
    "#### Вывод по п.1.2.1.2.: p-value > 0.05 -> различия не стат значимые -> H0 не отклоняем"
   ]
  },
  {
   "cell_type": "markdown",
   "metadata": {},
   "source": [
    "#### 1.2.1.3. Визуализация ARPU  "
   ]
  },
  {
   "cell_type": "code",
   "execution_count": 109,
   "metadata": {},
   "outputs": [
    {
     "data": {
      "text/plain": [
       "Text(0, 0.5, 'ARPU')"
      ]
     },
     "execution_count": 109,
     "metadata": {},
     "output_type": "execute_result"
    },
    {
     "data": {
      "image/png": "[encoded data removed]",
      "text/plain": [
       "<Figure size 1296x576 with 2 Axes>"
      ]
     },
     "metadata": {
      "needs_background": "light"
     },
     "output_type": "display_data"
    }
   ],
   "source": [
    "plt.figure(figsize=(18, 8)) \n",
    "plt.subplot(1, 2, 1)\n",
    "ax1 = sns.boxplot(data = all_active_users, x = 'grp', y = 'rev', palette=['#1f77b4', '#ff7f0e'])\n",
    "plt.title('ARPU по группам')\n",
    "plt.xlabel('')\n",
    "plt.ylabel('Revenue')\n",
    "plt.subplot(1, 2, 2)\n",
    "\n",
    "ax2 = sns.barplot(x='grp', y='rev', data=all_active_users)\n",
    "plt.title('ARPU по группам')\n",
    "plt.xlabel('')\n",
    "plt.ylabel('ARPU')\n",
    "#plt.show()"
   ]
  },
  {
   "cell_type": "markdown",
   "metadata": {},
   "source": [
    "### 1.2.2. Конверсия в оплату \n",
    "(Как часто пользователи платят = (число платящих пользователей) / (все активные пользователи))"
   ]
  },
  {
   "cell_type": "markdown",
   "metadata": {},
   "source": [
    "#### 1.2.2.1 Расчет Конверсии в оплату по группам "
   ]
  },
  {
   "cell_type": "code",
   "execution_count": 57,
   "metadata": {},
   "outputs": [
    {
     "data": {
      "text/html": [
       "<div>\n",
       "<style scoped>\n",
       "    .dataframe tbody tr th:only-of-type {\n",
       "        vertical-align: middle;\n",
       "    }\n",
       "\n",
       "    .dataframe tbody tr th {\n",
       "        vertical-align: top;\n",
       "    }\n",
       "\n",
       "    .dataframe thead th {\n",
       "        text-align: right;\n",
       "    }\n",
       "</style>\n",
       "<table border=\"1\" class=\"dataframe\">\n",
       "  <thead>\n",
       "    <tr style=\"text-align: right;\">\n",
       "      <th></th>\n",
       "      <th>id</th>\n",
       "      <th>grp</th>\n",
       "      <th>rev</th>\n",
       "      <th>is_paying</th>\n",
       "    </tr>\n",
       "  </thead>\n",
       "  <tbody>\n",
       "    <tr>\n",
       "      <th>0</th>\n",
       "      <td>1627</td>\n",
       "      <td>A</td>\n",
       "      <td>990.0</td>\n",
       "      <td>True</td>\n",
       "    </tr>\n",
       "    <tr>\n",
       "      <th>3</th>\n",
       "      <td>3391</td>\n",
       "      <td>A</td>\n",
       "      <td>0.0</td>\n",
       "      <td>False</td>\n",
       "    </tr>\n",
       "    <tr>\n",
       "      <th>13</th>\n",
       "      <td>109623</td>\n",
       "      <td>A</td>\n",
       "      <td>0.0</td>\n",
       "      <td>False</td>\n",
       "    </tr>\n",
       "    <tr>\n",
       "      <th>15</th>\n",
       "      <td>133678</td>\n",
       "      <td>A</td>\n",
       "      <td>0.0</td>\n",
       "      <td>False</td>\n",
       "    </tr>\n",
       "    <tr>\n",
       "      <th>23</th>\n",
       "      <td>175944</td>\n",
       "      <td>A</td>\n",
       "      <td>0.0</td>\n",
       "      <td>False</td>\n",
       "    </tr>\n",
       "    <tr>\n",
       "      <th>...</th>\n",
       "      <td>...</td>\n",
       "      <td>...</td>\n",
       "      <td>...</td>\n",
       "      <td>...</td>\n",
       "    </tr>\n",
       "    <tr>\n",
       "      <th>8319</th>\n",
       "      <td>5668989</td>\n",
       "      <td>A</td>\n",
       "      <td>0.0</td>\n",
       "      <td>False</td>\n",
       "    </tr>\n",
       "    <tr>\n",
       "      <th>8327</th>\n",
       "      <td>5690284</td>\n",
       "      <td>A</td>\n",
       "      <td>0.0</td>\n",
       "      <td>False</td>\n",
       "    </tr>\n",
       "    <tr>\n",
       "      <th>8329</th>\n",
       "      <td>5723133</td>\n",
       "      <td>A</td>\n",
       "      <td>0.0</td>\n",
       "      <td>False</td>\n",
       "    </tr>\n",
       "    <tr>\n",
       "      <th>8332</th>\n",
       "      <td>5729371</td>\n",
       "      <td>A</td>\n",
       "      <td>0.0</td>\n",
       "      <td>False</td>\n",
       "    </tr>\n",
       "    <tr>\n",
       "      <th>8338</th>\n",
       "      <td>5870856</td>\n",
       "      <td>A</td>\n",
       "      <td>0.0</td>\n",
       "      <td>False</td>\n",
       "    </tr>\n",
       "  </tbody>\n",
       "</table>\n",
       "<p>1538 rows × 4 columns</p>\n",
       "</div>"
      ],
      "text/plain": [
       "           id grp    rev  is_paying\n",
       "0        1627   A  990.0       True\n",
       "3        3391   A    0.0      False\n",
       "13     109623   A    0.0      False\n",
       "15     133678   A    0.0      False\n",
       "23     175944   A    0.0      False\n",
       "...       ...  ..    ...        ...\n",
       "8319  5668989   A    0.0      False\n",
       "8327  5690284   A    0.0      False\n",
       "8329  5723133   A    0.0      False\n",
       "8332  5729371   A    0.0      False\n",
       "8338  5870856   A    0.0      False\n",
       "\n",
       "[1538 rows x 4 columns]"
      ]
     },
     "execution_count": 57,
     "metadata": {},
     "output_type": "execute_result"
    }
   ],
   "source": [
    "group_a"
   ]
  },
  {
   "cell_type": "code",
   "execution_count": 31,
   "metadata": {},
   "outputs": [],
   "source": [
    "paying_users_a = group_a.query('is_paying==True')['is_paying'].count()"
   ]
  },
  {
   "cell_type": "code",
   "execution_count": 32,
   "metadata": {},
   "outputs": [
    {
     "data": {
      "text/plain": [
       "78"
      ]
     },
     "execution_count": 32,
     "metadata": {},
     "output_type": "execute_result"
    }
   ],
   "source": [
    "paying_users_a"
   ]
  },
  {
   "cell_type": "code",
   "execution_count": 56,
   "metadata": {},
   "outputs": [],
   "source": [
    "cr_a = paying_users_a/users_a"
   ]
  },
  {
   "cell_type": "code",
   "execution_count": 167,
   "metadata": {},
   "outputs": [
    {
     "data": {
      "text/plain": [
       "0.05071521456436931"
      ]
     },
     "execution_count": 167,
     "metadata": {},
     "output_type": "execute_result"
    }
   ],
   "source": [
    "cr_a"
   ]
  },
  {
   "cell_type": "code",
   "execution_count": 36,
   "metadata": {},
   "outputs": [],
   "source": [
    "paying_users_b = group_b[group_b['is_paying']==True]['is_paying'].count()"
   ]
  },
  {
   "cell_type": "code",
   "execution_count": 55,
   "metadata": {},
   "outputs": [
    {
     "data": {
      "text/plain": [
       "314"
      ]
     },
     "execution_count": 55,
     "metadata": {},
     "output_type": "execute_result"
    }
   ],
   "source": [
    "paying_users_b"
   ]
  },
  {
   "cell_type": "code",
   "execution_count": 57,
   "metadata": {},
   "outputs": [],
   "source": [
    "cr_b = paying_users_b/users_b"
   ]
  },
  {
   "cell_type": "code",
   "execution_count": 62,
   "metadata": {},
   "outputs": [
    {
     "data": {
      "text/plain": [
       "0.046156107599588415"
      ]
     },
     "execution_count": 62,
     "metadata": {},
     "output_type": "execute_result"
    }
   ],
   "source": [
    "cr_b"
   ]
  },
  {
   "cell_type": "code",
   "execution_count": null,
   "metadata": {},
   "outputs": [],
   "source": [
    "# Вывод: в средних сзачениях конверсий в оплату по группам есть разница, при этом в группе А конверсия больше"
   ]
  },
  {
   "cell_type": "markdown",
   "metadata": {},
   "source": [
    "#### 1.2.2.2. Расчет стат значимости различий Конверсии в оплату по группам \n",
    "\n",
    "Тк метрика долей, то используем χ²-тест на независимость, проводимый по таблице сопряженности\n"
   ]
  },
  {
   "cell_type": "markdown",
   "metadata": {},
   "source": [
    "Н0 = Конверсия в оплату в группах A и B равна\n",
    "\n",
    "Н1 = Конверсия в оплату в группах A и B  не равна"
   ]
  },
  {
   "cell_type": "code",
   "execution_count": 58,
   "metadata": {},
   "outputs": [
    {
     "data": {
      "text/html": [
       "<div>\n",
       "<style scoped>\n",
       "    .dataframe tbody tr th:only-of-type {\n",
       "        vertical-align: middle;\n",
       "    }\n",
       "\n",
       "    .dataframe tbody tr th {\n",
       "        vertical-align: top;\n",
       "    }\n",
       "\n",
       "    .dataframe thead th {\n",
       "        text-align: right;\n",
       "    }\n",
       "</style>\n",
       "<table border=\"1\" class=\"dataframe\">\n",
       "  <thead>\n",
       "    <tr style=\"text-align: right;\">\n",
       "      <th></th>\n",
       "      <th>id</th>\n",
       "      <th>grp</th>\n",
       "      <th>rev</th>\n",
       "      <th>is_paying</th>\n",
       "    </tr>\n",
       "  </thead>\n",
       "  <tbody>\n",
       "    <tr>\n",
       "      <th>0</th>\n",
       "      <td>1627</td>\n",
       "      <td>A</td>\n",
       "      <td>990.0</td>\n",
       "      <td>True</td>\n",
       "    </tr>\n",
       "    <tr>\n",
       "      <th>1</th>\n",
       "      <td>2085</td>\n",
       "      <td>B</td>\n",
       "      <td>0.0</td>\n",
       "      <td>False</td>\n",
       "    </tr>\n",
       "    <tr>\n",
       "      <th>2</th>\n",
       "      <td>2215</td>\n",
       "      <td>B</td>\n",
       "      <td>0.0</td>\n",
       "      <td>False</td>\n",
       "    </tr>\n",
       "    <tr>\n",
       "      <th>3</th>\n",
       "      <td>3391</td>\n",
       "      <td>A</td>\n",
       "      <td>0.0</td>\n",
       "      <td>False</td>\n",
       "    </tr>\n",
       "    <tr>\n",
       "      <th>4</th>\n",
       "      <td>3401</td>\n",
       "      <td>B</td>\n",
       "      <td>0.0</td>\n",
       "      <td>False</td>\n",
       "    </tr>\n",
       "    <tr>\n",
       "      <th>...</th>\n",
       "      <td>...</td>\n",
       "      <td>...</td>\n",
       "      <td>...</td>\n",
       "      <td>...</td>\n",
       "    </tr>\n",
       "    <tr>\n",
       "      <th>8336</th>\n",
       "      <td>5760471</td>\n",
       "      <td>B</td>\n",
       "      <td>0.0</td>\n",
       "      <td>False</td>\n",
       "    </tr>\n",
       "    <tr>\n",
       "      <th>8337</th>\n",
       "      <td>5777081</td>\n",
       "      <td>B</td>\n",
       "      <td>0.0</td>\n",
       "      <td>False</td>\n",
       "    </tr>\n",
       "    <tr>\n",
       "      <th>8338</th>\n",
       "      <td>5870856</td>\n",
       "      <td>A</td>\n",
       "      <td>0.0</td>\n",
       "      <td>False</td>\n",
       "    </tr>\n",
       "    <tr>\n",
       "      <th>8339</th>\n",
       "      <td>5945085</td>\n",
       "      <td>B</td>\n",
       "      <td>0.0</td>\n",
       "      <td>False</td>\n",
       "    </tr>\n",
       "    <tr>\n",
       "      <th>8340</th>\n",
       "      <td>5951797</td>\n",
       "      <td>B</td>\n",
       "      <td>0.0</td>\n",
       "      <td>False</td>\n",
       "    </tr>\n",
       "  </tbody>\n",
       "</table>\n",
       "<p>8341 rows × 4 columns</p>\n",
       "</div>"
      ],
      "text/plain": [
       "           id grp    rev  is_paying\n",
       "0        1627   A  990.0       True\n",
       "1        2085   B    0.0      False\n",
       "2        2215   B    0.0      False\n",
       "3        3391   A    0.0      False\n",
       "4        3401   B    0.0      False\n",
       "...       ...  ..    ...        ...\n",
       "8336  5760471   B    0.0      False\n",
       "8337  5777081   B    0.0      False\n",
       "8338  5870856   A    0.0      False\n",
       "8339  5945085   B    0.0      False\n",
       "8340  5951797   B    0.0      False\n",
       "\n",
       "[8341 rows x 4 columns]"
      ]
     },
     "execution_count": 58,
     "metadata": {},
     "output_type": "execute_result"
    }
   ],
   "source": [
    "all_active_users"
   ]
  },
  {
   "cell_type": "code",
   "execution_count": 61,
   "metadata": {},
   "outputs": [],
   "source": [
    "all_active_users_table_short = all_active_users.groupby(['grp','is_paying'], as_index = False).agg(count = ('grp','count'))"
   ]
  },
  {
   "cell_type": "code",
   "execution_count": 62,
   "metadata": {},
   "outputs": [
    {
     "data": {
      "text/html": [
       "<div>\n",
       "<style scoped>\n",
       "    .dataframe tbody tr th:only-of-type {\n",
       "        vertical-align: middle;\n",
       "    }\n",
       "\n",
       "    .dataframe tbody tr th {\n",
       "        vertical-align: top;\n",
       "    }\n",
       "\n",
       "    .dataframe thead th {\n",
       "        text-align: right;\n",
       "    }\n",
       "</style>\n",
       "<table border=\"1\" class=\"dataframe\">\n",
       "  <thead>\n",
       "    <tr style=\"text-align: right;\">\n",
       "      <th></th>\n",
       "      <th>grp</th>\n",
       "      <th>is_paying</th>\n",
       "      <th>count</th>\n",
       "    </tr>\n",
       "  </thead>\n",
       "  <tbody>\n",
       "    <tr>\n",
       "      <th>0</th>\n",
       "      <td>A</td>\n",
       "      <td>False</td>\n",
       "      <td>1460</td>\n",
       "    </tr>\n",
       "    <tr>\n",
       "      <th>1</th>\n",
       "      <td>A</td>\n",
       "      <td>True</td>\n",
       "      <td>78</td>\n",
       "    </tr>\n",
       "    <tr>\n",
       "      <th>2</th>\n",
       "      <td>B</td>\n",
       "      <td>False</td>\n",
       "      <td>6489</td>\n",
       "    </tr>\n",
       "    <tr>\n",
       "      <th>3</th>\n",
       "      <td>B</td>\n",
       "      <td>True</td>\n",
       "      <td>314</td>\n",
       "    </tr>\n",
       "  </tbody>\n",
       "</table>\n",
       "</div>"
      ],
      "text/plain": [
       "  grp  is_paying  count\n",
       "0   A      False   1460\n",
       "1   A       True     78\n",
       "2   B      False   6489\n",
       "3   B       True    314"
      ]
     },
     "execution_count": 62,
     "metadata": {},
     "output_type": "execute_result"
    }
   ],
   "source": [
    "all_active_users_table_short"
   ]
  },
  {
   "cell_type": "code",
   "execution_count": 66,
   "metadata": {},
   "outputs": [
    {
     "data": {
      "text/html": [
       "<div>\n",
       "<style scoped>\n",
       "    .dataframe tbody tr th:only-of-type {\n",
       "        vertical-align: middle;\n",
       "    }\n",
       "\n",
       "    .dataframe tbody tr th {\n",
       "        vertical-align: top;\n",
       "    }\n",
       "\n",
       "    .dataframe thead th {\n",
       "        text-align: right;\n",
       "    }\n",
       "</style>\n",
       "<table border=\"1\" class=\"dataframe\">\n",
       "  <thead>\n",
       "    <tr style=\"text-align: right;\">\n",
       "      <th>is_paying</th>\n",
       "      <th>False</th>\n",
       "      <th>True</th>\n",
       "    </tr>\n",
       "    <tr>\n",
       "      <th>grp</th>\n",
       "      <th></th>\n",
       "      <th></th>\n",
       "    </tr>\n",
       "  </thead>\n",
       "  <tbody>\n",
       "    <tr>\n",
       "      <th>A</th>\n",
       "      <td>1460</td>\n",
       "      <td>78</td>\n",
       "    </tr>\n",
       "    <tr>\n",
       "      <th>B</th>\n",
       "      <td>6489</td>\n",
       "      <td>314</td>\n",
       "    </tr>\n",
       "  </tbody>\n",
       "</table>\n",
       "</div>"
      ],
      "text/plain": [
       "is_paying  False  True \n",
       "grp                    \n",
       "A           1460     78\n",
       "B           6489    314"
      ]
     },
     "execution_count": 66,
     "metadata": {},
     "output_type": "execute_result"
    }
   ],
   "source": [
    "contingency_table = all_active_users_table_short.pivot(index='grp',columns='is_paying',values='count')\n",
    "contingency_table"
   ]
  },
  {
   "cell_type": "code",
   "execution_count": 67,
   "metadata": {},
   "outputs": [],
   "source": [
    "result = chi2_contingency(contingency_table)"
   ]
  },
  {
   "cell_type": "code",
   "execution_count": 68,
   "metadata": {},
   "outputs": [
    {
     "data": {
      "text/plain": [
       "(0.48480826522557896,\n",
       " 0.48625240457231045,\n",
       " 1,\n",
       " array([[1465.71897854,   72.28102146],\n",
       "        [6483.28102146,  319.71897854]]))"
      ]
     },
     "execution_count": 68,
     "metadata": {},
     "output_type": "execute_result"
    }
   ],
   "source": [
    "result"
   ]
  },
  {
   "cell_type": "markdown",
   "metadata": {},
   "source": [
    "#### Вывод по п. 1.2.2.2. : p-value = 0.486, p-value > 0.05 -> результат не стат значим -> Н0 не отклоняем"
   ]
  },
  {
   "cell_type": "code",
   "execution_count": 99,
   "metadata": {},
   "outputs": [
    {
     "data": {
      "image/png": "[encoded data removed]",
      "text/plain": [
       "<Figure size 720x576 with 1 Axes>"
      ]
     },
     "metadata": {
      "needs_background": "light"
     },
     "output_type": "display_data"
    }
   ],
   "source": [
    "plt.figure(figsize=(10, 8)) \n",
    "sns.barplot(x='grp', y='is_paying', data=all_active_users)\n",
    "plt.title('Конверсия в оплату по группам')\n",
    "plt.xlabel('')\n",
    "plt.ylabel('Доля оплативших')\n",
    "#plt.xticks(rotation=45)\n",
    "plt.show()"
   ]
  },
  {
   "cell_type": "markdown",
   "metadata": {},
   "source": [
    "### 1.2.3. ARPPU\n",
    "(Средний чек = (общий доход в группе) / (число платящих пользователей))"
   ]
  },
  {
   "cell_type": "markdown",
   "metadata": {},
   "source": [
    "#### 1.2.3.1 Расчет ARPPU по группам "
   ]
  },
  {
   "cell_type": "code",
   "execution_count": 33,
   "metadata": {},
   "outputs": [],
   "source": [
    "arppu_a = revenue_a/paying_users_a"
   ]
  },
  {
   "cell_type": "code",
   "execution_count": 34,
   "metadata": {},
   "outputs": [
    {
     "data": {
      "text/plain": [
       "933.5897435897435"
      ]
     },
     "execution_count": 34,
     "metadata": {},
     "output_type": "execute_result"
    }
   ],
   "source": [
    "arppu_a"
   ]
  },
  {
   "cell_type": "code",
   "execution_count": 37,
   "metadata": {},
   "outputs": [],
   "source": [
    "arppu_b = revenue_b/paying_users_b"
   ]
  },
  {
   "cell_type": "code",
   "execution_count": 61,
   "metadata": {},
   "outputs": [
    {
     "data": {
      "text/plain": [
       "1257.8789920382167"
      ]
     },
     "execution_count": 61,
     "metadata": {},
     "output_type": "execute_result"
    }
   ],
   "source": [
    "arppu_b"
   ]
  },
  {
   "cell_type": "code",
   "execution_count": null,
   "metadata": {},
   "outputs": [],
   "source": [
    "# Вывод: в средних сзачениях ARPPU по группам есть разница"
   ]
  },
  {
   "cell_type": "markdown",
   "metadata": {},
   "source": [
    "#### 1.2.3.2. Расчет стат значимости различий ARPPU по группам \n",
    "Тк n>30 в каждой группе, то используем ttest\n",
    "\n",
    "Тк группы А/Б различаются в размерах, то применяем ttest Уэлча для проверки стат значимости различий по метрикам"
   ]
  },
  {
   "cell_type": "code",
   "execution_count": null,
   "metadata": {},
   "outputs": [],
   "source": [
    "Н0 = средний ARPPU в группах A и B равен\n",
    "Н1 = средний ARPPU в группах A и B не равен"
   ]
  },
  {
   "cell_type": "code",
   "execution_count": 162,
   "metadata": {},
   "outputs": [
    {
     "data": {
      "text/plain": [
       "0        990.0\n",
       "319     1830.0\n",
       "448     2910.0\n",
       "508     2820.0\n",
       "718     3660.0\n",
       "         ...  \n",
       "8142     990.0\n",
       "8257    1160.0\n",
       "8265     290.0\n",
       "8275     489.0\n",
       "8281     590.0\n",
       "Name: rev, Length: 78, dtype: float64"
      ]
     },
     "execution_count": 162,
     "metadata": {},
     "output_type": "execute_result"
    }
   ],
   "source": [
    "group_a.query('is_paying == True')['rev']"
   ]
  },
  {
   "cell_type": "code",
   "execution_count": 163,
   "metadata": {},
   "outputs": [
    {
     "data": {
      "text/plain": [
       "10       990.0000\n",
       "12       290.0000\n",
       "246     1900.0001\n",
       "279      690.0000\n",
       "299      199.0000\n",
       "          ...    \n",
       "8312    1900.0000\n",
       "8314    1900.0000\n",
       "8316    1900.0000\n",
       "8323    1900.0000\n",
       "8335    1900.0000\n",
       "Name: rev, Length: 314, dtype: float64"
      ]
     },
     "execution_count": 163,
     "metadata": {},
     "output_type": "execute_result"
    }
   ],
   "source": [
    "group_b.query('is_paying == True')['rev']"
   ]
  },
  {
   "cell_type": "code",
   "execution_count": 164,
   "metadata": {},
   "outputs": [
    {
     "data": {
      "text/plain": [
       "Ttest_indResult(statistic=-2.861689755269415, pvalue=0.005069734012800116)"
      ]
     },
     "execution_count": 164,
     "metadata": {},
     "output_type": "execute_result"
    }
   ],
   "source": [
    "st.ttest_ind(group_a.query('is_paying == True')['rev'], group_b.query('is_paying == True')['rev'], equal_var=False)"
   ]
  },
  {
   "cell_type": "markdown",
   "metadata": {},
   "source": [
    "#### Вывод по п.1.2.3.2.: p-value < 0.05 -> различия стат значимые -> H0 отклоняем"
   ]
  },
  {
   "cell_type": "markdown",
   "metadata": {},
   "source": [
    "#### 1.2.1.3. Визуализация ARPPU  "
   ]
  },
  {
   "cell_type": "code",
   "execution_count": 113,
   "metadata": {},
   "outputs": [
    {
     "data": {
      "image/png": "[encoded data removed]",
      "text/plain": [
       "<Figure size 1296x576 with 2 Axes>"
      ]
     },
     "metadata": {
      "needs_background": "light"
     },
     "output_type": "display_data"
    }
   ],
   "source": [
    "plt.figure(figsize=(18, 8)) \n",
    "plt.subplot(1, 2, 1)\n",
    "ax1 = sns.boxplot(data = all_active_users.query('is_paying == True'), x = 'grp', y = 'rev')\n",
    "plt.title('ARPPU по группам')\n",
    "plt.xlabel('')\n",
    "plt.ylabel('Revenue')\n",
    "\n",
    "plt.subplot(1, 2, 2)\n",
    "ax2 = sns.barplot(x='grp', y='rev', data=all_active_users.query('is_paying == True'))\n",
    "plt.title('ARPPU по группам')\n",
    "plt.xlabel('')\n",
    "plt.ylabel('ARPPU')\n",
    "#plt.xticks(rotation=45)\n",
    "plt.show()"
   ]
  },
  {
   "cell_type": "markdown",
   "metadata": {},
   "source": [
    "## Вывод из п.1.2:\n",
    "\n",
    "2 метрики (Конверсия в оплату, ARPU) из 3 (Конверсия в оплату, ARPU, ARPPU) дали не стат значимые различия в показателях, на основании этих данных отклоняем принятие новой механики оплаты\n"
   ]
  },
  {
   "cell_type": "markdown",
   "metadata": {},
   "source": [
    "# Итоги по Заданию 1:\n",
    "\n",
    "1) В ходе проведения анализа была замечена потеря логов в файле \"Проект_2_active_studs.csv\", необходимо найти причины и устранить, после имеет смысл провести посторный А/Б тест\n",
    "\n",
    "2)При анализе существующих данных метрики ARPU И ARPUU показали лучшие результаты по средним значениям в группе Б, однако при проверки результатов на стат значимость, только одна метрика ARPPU показала значимость различий. Одновременно с этим ключевая метрика Конверсии в оплату показала при сравнение средних худший результат у группы Б\n",
    "\n",
    "Исходя из пунктов выше сделан вывод о том, что внеднять новую механику оплаты не стоит."
   ]
  },
  {
   "cell_type": "markdown",
   "metadata": {},
   "source": [
    "# Задание 2. "
   ]
  },
  {
   "cell_type": "markdown",
   "metadata": {},
   "source": [
    "## 2.1. Реализуйте функцию, которая будет автоматически подгружать информацию из дополнительного файла groups_add.csv \n",
    "(заголовки могут отличаться) и на основании дополнительных параметров пересчитывать метрики."
   ]
  },
  {
   "cell_type": "code",
   "execution_count": 53,
   "metadata": {},
   "outputs": [],
   "source": [
    "import pandas as pd\n",
    "import scipy.stats as st\n",
    "from scipy.stats import chi2_contingency\n",
    "import matplotlib.pyplot as plt\n",
    "import seaborn as sns\n",
    "import requests"
   ]
  },
  {
   "cell_type": "code",
   "execution_count": 54,
   "metadata": {},
   "outputs": [],
   "source": [
    "#загружаем файлы первичные\n",
    "groups = pd.read_csv('Проект_2_groups.csv', sep = \";\" )\n",
    "group_add = pd.read_csv('Проект_2_group_add.csv')\n",
    "active_studs = pd.read_csv('Проект_2_active_studs.csv')\n",
    "checks = pd.read_csv('Проект_2_checks.csv', sep = \";\")"
   ]
  },
  {
   "cell_type": "code",
   "execution_count": 55,
   "metadata": {},
   "outputs": [],
   "source": [
    "# собираем датасет по активным пользовтелям\n",
    "\n",
    "# соединили 2 группы groups и group_add\n",
    "all_groups = pd.concat([groups, group_add], ignore_index=True)\n",
    "# выбрали всех активных пользователей\n",
    "merge_allgroups_active = pd.merge (all_groups, active_studs, how = 'inner', left_on = 'id', right_on = 'student_id')\n",
    "# к активным добавили оплаты\n",
    "all_active_users = pd.merge(merge_allgroups_active, checks, how = 'left', on = 'student_id').fillna(0)\n",
    "all_active_users['is_paying'] = all_active_users['rev']>0\n"
   ]
  },
  {
   "cell_type": "code",
   "execution_count": 38,
   "metadata": {},
   "outputs": [],
   "source": [
    "# собираем датасет по всем пользовтелям\n",
    "\n",
    "all_users = pd.merge(all_groups,checks, how = 'left', left_on = 'id', right_on = 'student_id').fillna(0)\n",
    "all_users = all_users.drop('student_id', axis = 1)\n",
    "all_users['is_paying'] = all_users['rev']>0\n"
   ]
  },
  {
   "cell_type": "code",
   "execution_count": 74,
   "metadata": {},
   "outputs": [
    {
     "name": "stdout",
     "output_type": "stream",
     "text": [
      "CR_all_users группы A: 0.0072823793643231475 \n",
      "CR_all_users группы Б: 0.007247465891822387\n",
      "χ²-test по СR_all_users: \n",
      "   statistic :0.0 \n",
      "   pvalue: 1.0 \n",
      "\n",
      "CR группы A: 0.05071521456436931 \n",
      "CR группы Б: 0.046156107599588415\n",
      "χ²-test по СR: \n",
      "   statistic :0.48480826522557896 \n",
      "   pvalue: 0.48625240457231045 \n",
      "\n",
      "ARPPU группы A: 933.5897435897435 \n",
      "ARPPU группы Б: 1257.8789920382167\n",
      "T-test Уэлча по ARPPU: Ttest_indResult(statistic=-2.861689755269415, pvalue=0.005069734012800116) \n",
      "\n",
      "ARPU группы A: 47.34720416124838 \n",
      "ARPU группы Б: 58.058798103777754\n",
      "T-test Уэлча по ARPAU: Ttest_indResult(statistic=-1.286373849379703, pvalue=0.19843583641451018) \n",
      "\n"
     ]
    }
   ],
   "source": [
    "# функции подсчета метрик по изначальным данным\n",
    "\n",
    "def F_ARPU(all_active_users):\n",
    "    try:\n",
    "        group_a = all_active_users[all_active_users['grp'] == 'A']\n",
    "        arpu_a = group_a['rev'].sum()/len(group_a)\n",
    "        print(f\"ARPU группы A: {arpu_a} \")\n",
    "        \n",
    "        group_b = all_active_users[all_active_users['grp'] == 'B']\n",
    "        arpu_b = group_b['rev'].sum()/len(group_b)\n",
    "        print(f\"ARPU группы Б: {arpu_b}\")\n",
    "        \n",
    "        stat_result_ARPU = st.ttest_ind(group_a['rev'], group_b['rev'], equal_var=False)\n",
    "        print (f\"T-test Уэлча по ARPAU: {stat_result_ARPU} \\n\")\n",
    "        \n",
    "    \n",
    "    except Exception as e:\n",
    "        # Если произошла ЛЮБАЯ ошибка - выполняется этот блок\n",
    "        print(f\"Ошибка подсчета ARPU.\")\n",
    "        #return all_active_users \n",
    "        \n",
    "        \n",
    "def F_ARPPU(all_active_users):\n",
    "    try:\n",
    "        group_a = all_active_users[all_active_users['grp'] == 'A']\n",
    "        arppu_a = group_a['rev'].sum()/group_a.query('is_paying==True')['is_paying'].count()\n",
    "        print(f\"ARPPU группы A: {arppu_a} \")\n",
    "        \n",
    "        group_b = all_active_users[all_active_users['grp'] == 'B']\n",
    "        arppu_b = group_b['rev'].sum()/group_b.query('is_paying==True')['is_paying'].count()\n",
    "        print(f\"ARPPU группы Б: {arppu_b}\")\n",
    "        \n",
    "        stat_result_ARPPU = st.ttest_ind(group_a.query('is_paying == True')['rev'], group_b.query('is_paying == True')['rev'], equal_var=False)\n",
    "        print (f\"T-test Уэлча по ARPPU: {stat_result_ARPPU} \\n\")\n",
    "        \n",
    "    \n",
    "    except Exception as e:\n",
    "        # Если произошла ЛЮБАЯ ошибка - выполняется этот блок\n",
    "        print(f\"Ошибка подсчета ARPPU.\")\n",
    "        #return all_active_users \n",
    "        \n",
    "\n",
    "def F_CR(all_active_users):\n",
    "    \n",
    "    try:\n",
    "        group_a = all_active_users[all_active_users['grp'] == 'A']\n",
    "        cr_a = group_a.query('is_paying==True')['is_paying'].count()/len(group_a)\n",
    "        print(f\"CR группы A: {cr_a} \")\n",
    "        \n",
    "        group_b = all_active_users[all_active_users['grp'] == 'B']\n",
    "        cr_b = group_b.query('is_paying==True')['is_paying'].count()/len(group_b)\n",
    "        print(f\"CR группы Б: {cr_b}\")\n",
    "        \n",
    "        all_active_users_table_short = all_active_users.groupby(['grp','is_paying'], as_index = False).agg(count = ('grp','count'))\n",
    "        contingency_table = all_active_users_table_short.pivot(index='grp',columns='is_paying',values='count')\n",
    "        result_st, result_pvalue,result3, result4 = chi2_contingency(contingency_table)\n",
    "        print (f\"χ²-test по СR: \\n   statistic :{result_st} \\n   pvalue: {result_pvalue} \\n\")\n",
    "    \n",
    "    except Exception as e:\n",
    "        # Если произошла ЛЮБАЯ ошибка - выполняется этот блок\n",
    "        print(f\"Ошибка подсчета CR в оплату.\")\n",
    "        #return all_active_users \n",
    "\n",
    "def F_CR_all_users(all_users):\n",
    "    \n",
    "    try:\n",
    "        group_a = all_users[all_users['grp'] == 'A']\n",
    "        cr_all_users_a = group_a.query('is_paying==True')['is_paying'].count()/len(group_a)\n",
    "        print(f\"CR_all_users группы A: {cr_all_users_a} \")\n",
    "        \n",
    "        group_b = all_users[all_users['grp'] == 'B']\n",
    "        cr_all_users_b = group_b.query('is_paying==True')['is_paying'].count()/len(group_b)\n",
    "        print(f\"CR_all_users группы Б: {cr_all_users_b}\")\n",
    "        \n",
    "        all_users_table_short = all_users.groupby(['grp','is_paying'], as_index = False).agg(count = ('grp','count'))\n",
    "        contingency_table = all_users_table_short.pivot(index='grp',columns='is_paying',values='count')\n",
    "        result_st, result_pvalue,result3, result4 = chi2_contingency(contingency_table)\n",
    "        print (f\"χ²-test по СR_all_users: \\n   statistic :{result_st} \\n   pvalue: {result_pvalue} \\n\")\n",
    "        #print(all_users_table_short)\n",
    "    \n",
    "    except Exception as e:\n",
    "        # Если произошла ЛЮБАЯ ошибка - выполняется этот блок\n",
    "        print(f\"Ошибка подсчета CR_all_users в оплату.\")\n",
    "        #return all_active_users\n",
    "  \n",
    "\n",
    "F_CR_all_users(all_users)       \n",
    "F_CR(all_active_users)\n",
    "F_ARPPU (all_active_users)\n",
    "F_ARPU (all_active_users)"
   ]
  },
  {
   "cell_type": "code",
   "execution_count": 34,
   "metadata": {},
   "outputs": [
    {
     "data": {
      "text/html": [
       "<div>\n",
       "<style scoped>\n",
       "    .dataframe tbody tr th:only-of-type {\n",
       "        vertical-align: middle;\n",
       "    }\n",
       "\n",
       "    .dataframe tbody tr th {\n",
       "        vertical-align: top;\n",
       "    }\n",
       "\n",
       "    .dataframe thead th {\n",
       "        text-align: right;\n",
       "    }\n",
       "</style>\n",
       "<table border=\"1\" class=\"dataframe\">\n",
       "  <thead>\n",
       "    <tr style=\"text-align: right;\">\n",
       "      <th></th>\n",
       "      <th>id</th>\n",
       "      <th>grp</th>\n",
       "    </tr>\n",
       "  </thead>\n",
       "  <tbody>\n",
       "    <tr>\n",
       "      <th>0</th>\n",
       "      <td>1001</td>\n",
       "      <td>B</td>\n",
       "    </tr>\n",
       "    <tr>\n",
       "      <th>1</th>\n",
       "      <td>1002</td>\n",
       "      <td>B</td>\n",
       "    </tr>\n",
       "    <tr>\n",
       "      <th>2</th>\n",
       "      <td>1003</td>\n",
       "      <td>A</td>\n",
       "    </tr>\n",
       "    <tr>\n",
       "      <th>3</th>\n",
       "      <td>1004</td>\n",
       "      <td>B</td>\n",
       "    </tr>\n",
       "    <tr>\n",
       "      <th>4</th>\n",
       "      <td>1005</td>\n",
       "      <td>A</td>\n",
       "    </tr>\n",
       "    <tr>\n",
       "      <th>5</th>\n",
       "      <td>1006</td>\n",
       "      <td>B</td>\n",
       "    </tr>\n",
       "    <tr>\n",
       "      <th>6</th>\n",
       "      <td>1007</td>\n",
       "      <td>A</td>\n",
       "    </tr>\n",
       "    <tr>\n",
       "      <th>7</th>\n",
       "      <td>1008</td>\n",
       "      <td>A</td>\n",
       "    </tr>\n",
       "    <tr>\n",
       "      <th>8</th>\n",
       "      <td>1</td>\n",
       "      <td>A</td>\n",
       "    </tr>\n",
       "    <tr>\n",
       "      <th>9</th>\n",
       "      <td>2</td>\n",
       "      <td>B</td>\n",
       "    </tr>\n",
       "    <tr>\n",
       "      <th>10</th>\n",
       "      <td>3</td>\n",
       "      <td>B</td>\n",
       "    </tr>\n",
       "    <tr>\n",
       "      <th>11</th>\n",
       "      <td>4</td>\n",
       "      <td>B</td>\n",
       "    </tr>\n",
       "    <tr>\n",
       "      <th>12</th>\n",
       "      <td>5</td>\n",
       "      <td>B</td>\n",
       "    </tr>\n",
       "    <tr>\n",
       "      <th>13</th>\n",
       "      <td>6</td>\n",
       "      <td>B</td>\n",
       "    </tr>\n",
       "    <tr>\n",
       "      <th>14</th>\n",
       "      <td>7</td>\n",
       "      <td>B</td>\n",
       "    </tr>\n",
       "    <tr>\n",
       "      <th>15</th>\n",
       "      <td>8</td>\n",
       "      <td>B</td>\n",
       "    </tr>\n",
       "    <tr>\n",
       "      <th>16</th>\n",
       "      <td>9</td>\n",
       "      <td>B</td>\n",
       "    </tr>\n",
       "    <tr>\n",
       "      <th>17</th>\n",
       "      <td>12</td>\n",
       "      <td>B</td>\n",
       "    </tr>\n",
       "    <tr>\n",
       "      <th>18</th>\n",
       "      <td>13</td>\n",
       "      <td>B</td>\n",
       "    </tr>\n",
       "    <tr>\n",
       "      <th>19</th>\n",
       "      <td>14</td>\n",
       "      <td>B</td>\n",
       "    </tr>\n",
       "    <tr>\n",
       "      <th>20</th>\n",
       "      <td>67</td>\n",
       "      <td>B</td>\n",
       "    </tr>\n",
       "    <tr>\n",
       "      <th>21</th>\n",
       "      <td>45</td>\n",
       "      <td>B</td>\n",
       "    </tr>\n",
       "    <tr>\n",
       "      <th>22</th>\n",
       "      <td>23</td>\n",
       "      <td>B</td>\n",
       "    </tr>\n",
       "    <tr>\n",
       "      <th>23</th>\n",
       "      <td>99</td>\n",
       "      <td>B</td>\n",
       "    </tr>\n",
       "    <tr>\n",
       "      <th>24</th>\n",
       "      <td>88</td>\n",
       "      <td>B</td>\n",
       "    </tr>\n",
       "    <tr>\n",
       "      <th>25</th>\n",
       "      <td>77</td>\n",
       "      <td>B</td>\n",
       "    </tr>\n",
       "    <tr>\n",
       "      <th>26</th>\n",
       "      <td>66</td>\n",
       "      <td>B</td>\n",
       "    </tr>\n",
       "    <tr>\n",
       "      <th>27</th>\n",
       "      <td>55</td>\n",
       "      <td>B</td>\n",
       "    </tr>\n",
       "    <tr>\n",
       "      <th>28</th>\n",
       "      <td>44</td>\n",
       "      <td>B</td>\n",
       "    </tr>\n",
       "    <tr>\n",
       "      <th>29</th>\n",
       "      <td>33</td>\n",
       "      <td>B</td>\n",
       "    </tr>\n",
       "    <tr>\n",
       "      <th>30</th>\n",
       "      <td>221</td>\n",
       "      <td>B</td>\n",
       "    </tr>\n",
       "    <tr>\n",
       "      <th>31</th>\n",
       "      <td>11</td>\n",
       "      <td>B</td>\n",
       "    </tr>\n",
       "    <tr>\n",
       "      <th>32</th>\n",
       "      <td>999</td>\n",
       "      <td>B</td>\n",
       "    </tr>\n",
       "    <tr>\n",
       "      <th>33</th>\n",
       "      <td>888</td>\n",
       "      <td>B</td>\n",
       "    </tr>\n",
       "    <tr>\n",
       "      <th>34</th>\n",
       "      <td>777</td>\n",
       "      <td>B</td>\n",
       "    </tr>\n",
       "    <tr>\n",
       "      <th>35</th>\n",
       "      <td>666</td>\n",
       "      <td>B</td>\n",
       "    </tr>\n",
       "    <tr>\n",
       "      <th>36</th>\n",
       "      <td>555</td>\n",
       "      <td>B</td>\n",
       "    </tr>\n",
       "    <tr>\n",
       "      <th>37</th>\n",
       "      <td>444</td>\n",
       "      <td>B</td>\n",
       "    </tr>\n",
       "    <tr>\n",
       "      <th>38</th>\n",
       "      <td>333</td>\n",
       "      <td>B</td>\n",
       "    </tr>\n",
       "    <tr>\n",
       "      <th>39</th>\n",
       "      <td>222</td>\n",
       "      <td>B</td>\n",
       "    </tr>\n",
       "    <tr>\n",
       "      <th>40</th>\n",
       "      <td>111</td>\n",
       "      <td>B</td>\n",
       "    </tr>\n",
       "    <tr>\n",
       "      <th>41</th>\n",
       "      <td>9090</td>\n",
       "      <td>B</td>\n",
       "    </tr>\n",
       "    <tr>\n",
       "      <th>42</th>\n",
       "      <td>8989</td>\n",
       "      <td>B</td>\n",
       "    </tr>\n",
       "    <tr>\n",
       "      <th>43</th>\n",
       "      <td>7878</td>\n",
       "      <td>B</td>\n",
       "    </tr>\n",
       "    <tr>\n",
       "      <th>44</th>\n",
       "      <td>6767</td>\n",
       "      <td>B</td>\n",
       "    </tr>\n",
       "    <tr>\n",
       "      <th>45</th>\n",
       "      <td>5656</td>\n",
       "      <td>B</td>\n",
       "    </tr>\n",
       "    <tr>\n",
       "      <th>46</th>\n",
       "      <td>4545</td>\n",
       "      <td>B</td>\n",
       "    </tr>\n",
       "    <tr>\n",
       "      <th>47</th>\n",
       "      <td>3434</td>\n",
       "      <td>B</td>\n",
       "    </tr>\n",
       "    <tr>\n",
       "      <th>48</th>\n",
       "      <td>2323</td>\n",
       "      <td>B</td>\n",
       "    </tr>\n",
       "    <tr>\n",
       "      <th>49</th>\n",
       "      <td>1212</td>\n",
       "      <td>B</td>\n",
       "    </tr>\n",
       "  </tbody>\n",
       "</table>\n",
       "</div>"
      ],
      "text/plain": [
       "      id grp\n",
       "0   1001   B\n",
       "1   1002   B\n",
       "2   1003   A\n",
       "3   1004   B\n",
       "4   1005   A\n",
       "5   1006   B\n",
       "6   1007   A\n",
       "7   1008   A\n",
       "8      1   A\n",
       "9      2   B\n",
       "10     3   B\n",
       "11     4   B\n",
       "12     5   B\n",
       "13     6   B\n",
       "14     7   B\n",
       "15     8   B\n",
       "16     9   B\n",
       "17    12   B\n",
       "18    13   B\n",
       "19    14   B\n",
       "20    67   B\n",
       "21    45   B\n",
       "22    23   B\n",
       "23    99   B\n",
       "24    88   B\n",
       "25    77   B\n",
       "26    66   B\n",
       "27    55   B\n",
       "28    44   B\n",
       "29    33   B\n",
       "30   221   B\n",
       "31    11   B\n",
       "32   999   B\n",
       "33   888   B\n",
       "34   777   B\n",
       "35   666   B\n",
       "36   555   B\n",
       "37   444   B\n",
       "38   333   B\n",
       "39   222   B\n",
       "40   111   B\n",
       "41  9090   B\n",
       "42  8989   B\n",
       "43  7878   B\n",
       "44  6767   B\n",
       "45  5656   B\n",
       "46  4545   B\n",
       "47  3434   B\n",
       "48  2323   B\n",
       "49  1212   B"
      ]
     },
     "execution_count": 34,
     "metadata": {},
     "output_type": "execute_result"
    }
   ],
   "source": [
    "#Скачиваем новый файл с яндекс диска\n",
    "\n",
    "def download_new_file(public_url):\n",
    "\n",
    "    # Формируем специальную ссылку для получения прямой ссылки на скачивание\n",
    "    download_api_url = \"https://cloud-api.yandex.net/v1/disk/public/resources/download\"\n",
    "    params = {\"public_key\": public_url}\n",
    "    # Запрашиваем ссылку для скачивания\n",
    "    response = requests.get(download_api_url, params=params)\n",
    "\n",
    "    if response.status_code == 200:\n",
    "        direct_download_url = response.json().get(\"href\")\n",
    "        # Скачиваем файл и читаем его прямо в датафрейм\n",
    "        new_columns_names = ['id', 'grp']\n",
    "        new_file = pd.read_csv(direct_download_url, names = new_columns_names, header = 0)\n",
    "        #print(new_file.head())\n",
    "        return new_file\n",
    "    else:\n",
    "        print(\"Ошибка получения ссылки:\", response.text)\n",
    "    \n",
    "    \n",
    "download_new_file(\"https://disk.yandex.ru/d/sNPpohSA23mE5A\")"
   ]
  },
  {
   "cell_type": "code",
   "execution_count": 73,
   "metadata": {},
   "outputs": [
    {
     "name": "stdout",
     "output_type": "stream",
     "text": [
      "ARPU группы A: 47.34720416124838 \n",
      "ARPU группы Б: 58.058798103777754\n",
      "T-test Уэлча по ARPAU: Ttest_indResult(statistic=-1.286373849379703, pvalue=0.19843583641451018) \n",
      "\n",
      "ARPPU группы A: 933.5897435897435 \n",
      "ARPPU группы Б: 1257.8789920382167\n",
      "T-test Уэлча по ARPPU: Ttest_indResult(statistic=-2.861689755269415, pvalue=0.005069734012800116) \n",
      "\n",
      "CR группы A: 0.05071521456436931 \n",
      "CR группы Б: 0.046156107599588415\n",
      "χ²-test по СR: \n",
      "   statistic :0.48480826522557896 \n",
      "   pvalue: 0.48625240457231045 \n",
      "\n",
      "CR_all_users группы A: 0.007279902027486733 \n",
      "CR_all_users группы Б: 0.0072420237618475505\n",
      "χ²-test по СR_all_users: \n",
      "   statistic :0.0 \n",
      "   pvalue: 1.0 \n",
      "\n"
     ]
    }
   ],
   "source": [
    "\n",
    "# функция подкачивает доп файл с публичной ссылки на яндекс диске и пересчитывает метрики\n",
    "\n",
    "# важный момент: подкачивается файл только с группами, при этом активные пользователи остаются прежними, \n",
    "# а они у нас все исчерпались файлами ( 'Проект_2_groups.csv' 'Проект_2_active_studs.csv' ) поэтому \n",
    "# фактически наши метрики \n",
    "# ARPU  (Средний доход на пользователя = (общий доход в группе) / (все активные пользователи))\n",
    "# ARPPU (Средний чек = (общий доход в группе) / (число платящих пользователей))\n",
    "# CR    (Средний доход на пользователя = (общий доход в группе) / (все активные пользователи)) \n",
    "# меняться не будут при подкачки данного файла\n",
    "\n",
    "#CR_all_users (Средний доход на пользователя = (общий доход в группе) / (все пользователи)) - меняться будет\n",
    "\n",
    "def additional_file(all_active_users, new_file):\n",
    "    try:\n",
    "        #print(new_file)\n",
    "        if 'id' not in all_active_users.columns or 'id' not in new_file.columns:\n",
    "            raise ValueError(\"Столбец 'id' отсутствует в одном из DataFrame\")\n",
    "            \n",
    "            \n",
    "        #create_active_user_dataset(groups,group_add,active_studs,checks) \n",
    "        #create_all_user_dataset(groups,group_add,active_studs,checks)\n",
    "        #print(new_file)\n",
    "        #print(all_groups)\n",
    "        all_groups = pd.concat([groups, group_add], ignore_index=True)\n",
    "        all_groups = pd.concat([all_groups, new_file], ignore_index=True)\n",
    "        merge_allgroups_active = pd.merge (all_groups, active_studs, how = 'inner', left_on = 'id', right_on = 'student_id')\n",
    "        all_active_users = pd.merge(merge_allgroups_active, checks, how = 'left', on = 'student_id').fillna(0)\n",
    "        all_active_users['is_paying'] = all_active_users['rev']>0\n",
    "        \n",
    "\n",
    "        all_users = pd.merge(all_groups,checks, how = 'left', left_on = 'id', right_on = 'student_id').fillna(0)\n",
    "        all_users = all_users.drop('student_id', axis = 1)\n",
    "        all_users['is_paying'] = all_users['rev']>0\n",
    "        \n",
    "  \n",
    "        #new_all_active_users = pd.merge(all_active_users, all_groups, how = 'left', on = ['id','grp'] )\n",
    "        #new_all_users = pd.merge(all_users, all_groups, how = 'left', on = ['id','grp'] )\n",
    "        \n",
    "        F_ARPU (all_active_users)\n",
    "        F_ARPPU (all_active_users)\n",
    "        F_CR(all_active_users)\n",
    "        F_CR_all_users(all_users)\n",
    "        \n",
    "\n",
    "    \n",
    "    \n",
    "    except FileNotFoundError:\n",
    "        print(f\"Ошибка: файл {new_file} не найден\")\n",
    "        return all_active_users  # Возвращаем исходные данные\n",
    "    except pd.errors.EmptyDataError:\n",
    "        print(f\"Ошибка: файл {new_file} пуст\")\n",
    "        return all_active_users\n",
    "    except Exception as e:\n",
    "        # Если произошла ЛЮБАЯ ошибка - выполняется этот блок\n",
    "        print(f\"Ошибка подсчета additional_file.\")\n",
    "        \n",
    "additional_file(all_active_users, download_new_file(\"https://disk.yandex.ru/d/sNPpohSA23mE5A\"))"
   ]
  },
  {
   "cell_type": "markdown",
   "metadata": {},
   "source": [
    "## 2.2. Реализуйте функцию, которая будет строить графики по получаемым метрикам."
   ]
  },
  {
   "cell_type": "code",
   "execution_count": 67,
   "metadata": {},
   "outputs": [
    {
     "data": {
      "image/png": "[encoded data removed]",
      "text/plain": [
       "<Figure size 720x576 with 1 Axes>"
      ]
     },
     "metadata": {
      "needs_background": "light"
     },
     "output_type": "display_data"
    },
    {
     "data": {
      "image/png": "[encoded data removed]",
      "text/plain": [
       "<Figure size 720x576 with 1 Axes>"
      ]
     },
     "metadata": {
      "needs_background": "light"
     },
     "output_type": "display_data"
    },
    {
     "data": {
      "image/png": "[encoded data removed]",
      "text/plain": [
       "<Figure size 1296x576 with 2 Axes>"
      ]
     },
     "metadata": {
      "needs_background": "light"
     },
     "output_type": "display_data"
    },
    {
     "data": {
      "image/png": "[encoded data removed]",
      "text/plain": [
       "<Figure size 1296x576 with 2 Axes>"
      ]
     },
     "metadata": {
      "needs_background": "light"
     },
     "output_type": "display_data"
    }
   ],
   "source": [
    "# функции по построению графиков по изначальным данным\n",
    "\n",
    "def Viz_ARPU(all_active_users):\n",
    "    \n",
    "    try:\n",
    "        plt.figure(figsize=(18, 8)) \n",
    "        plt.subplot(1, 2, 1)\n",
    "        ax1 = sns.boxplot(data = all_active_users, x = 'grp', y = 'rev', palette=['#1f77b4', '#ff7f0e'])\n",
    "        plt.title('ARPU по группам')\n",
    "        plt.xlabel('')\n",
    "        plt.ylabel('Revenue')\n",
    "        plt.subplot(1, 2, 2)\n",
    "\n",
    "        ax2 = sns.barplot(x='grp', y='rev', data=all_active_users)\n",
    "        plt.title('ARPU по группам')\n",
    "        plt.xlabel('')\n",
    "        plt.ylabel('ARPU')\n",
    "        \n",
    "    except Exception as e:\n",
    "        # Если произошла ЛЮБАЯ ошибка - выполняется этот блок\n",
    "        print(f\"Ошибка подсчета VIZ_ARPU.\")\n",
    " \n",
    "\n",
    "def Viz_ARPPU(all_active_users):\n",
    "    \n",
    "    try:\n",
    "        plt.figure(figsize=(18, 8)) \n",
    "        plt.subplot(1, 2, 1)\n",
    "        ax1 = sns.boxplot(data = all_active_users.query('is_paying == True'), x = 'grp', y = 'rev')\n",
    "        plt.title('ARPPU по группам')\n",
    "        plt.xlabel('')\n",
    "        plt.ylabel('Revenue')\n",
    "\n",
    "        plt.subplot(1, 2, 2)\n",
    "        ax2 = sns.barplot(x='grp', y='rev', data=all_active_users.query('is_paying == True'))\n",
    "        plt.title('ARPPU по группам')\n",
    "        plt.xlabel('')\n",
    "        plt.ylabel('ARPPU')\n",
    "        \n",
    "    except Exception as e:\n",
    "        # Если произошла ЛЮБАЯ ошибка - выполняется этот блок\n",
    "        print(f\"Ошибка подсчета VIZ_ARPPU.\")\n",
    "        \n",
    "def VIZ_CR (all_active_users):\n",
    "    try:\n",
    "        plt.figure(figsize=(10, 8)) \n",
    "        sns.barplot(x='grp', y='is_paying', data=all_active_users)\n",
    "        plt.title('Конверсия в оплату по группам по активным пользователям')\n",
    "        plt.xlabel('')\n",
    "        plt.ylabel('Доля оплативших')\n",
    "        #plt.xticks(rotation=45)\n",
    "        plt.show()\n",
    "        \n",
    "    except Exception as e:\n",
    "        # Если произошла ЛЮБАЯ ошибка - выполняется этот блок\n",
    "        print(f\"Ошибка подсчета VIZ_CR.\")\n",
    "      \n",
    "def VIZ_CR_all_users (all_users):\n",
    "    try:\n",
    "        plt.figure(figsize=(10, 8)) \n",
    "        sns.barplot(x='grp', y='is_paying', data=all_users)\n",
    "        plt.title('Конверсия в оплату по группам по всем пользователям')\n",
    "        plt.xlabel('')\n",
    "        plt.ylabel('Доля оплативших')\n",
    "        #plt.xticks(rotation=45)\n",
    "        plt.show()\n",
    "        \n",
    "    except Exception as e:\n",
    "        # Если произошла ЛЮБАЯ ошибка - выполняется этот блок\n",
    "        print(f\"Ошибка подсчета VIZ_CR_all_users.\")\n",
    "      \n",
    "    \n",
    "    \n",
    "VIZ_CR_all_users(all_users)  \n",
    "VIZ_CR(all_active_users)              \n",
    "Viz_ARPPU(all_active_users)\n",
    "Viz_ARPU(all_active_users)"
   ]
  },
  {
   "cell_type": "code",
   "execution_count": 75,
   "metadata": {},
   "outputs": [
    {
     "name": "stdout",
     "output_type": "stream",
     "text": [
      "ARPU группы A: 47.34720416124838 \n",
      "ARPU группы Б: 58.058798103777754\n",
      "T-test Уэлча по ARPAU: Ttest_indResult(statistic=-1.286373849379703, pvalue=0.19843583641451018) \n",
      "\n",
      "ARPPU группы A: 933.5897435897435 \n",
      "ARPPU группы Б: 1257.8789920382167\n",
      "T-test Уэлча по ARPPU: Ttest_indResult(statistic=-2.861689755269415, pvalue=0.005069734012800116) \n",
      "\n",
      "CR группы A: 0.05071521456436931 \n",
      "CR группы Б: 0.046156107599588415\n",
      "χ²-test по СR: \n",
      "   statistic :0.48480826522557896 \n",
      "   pvalue: 0.48625240457231045 \n",
      "\n"
     ]
    },
    {
     "data": {
      "image/png": "[encoded data removed]",
      "text/plain": [
       "<Figure size 1296x576 with 2 Axes>"
      ]
     },
     "metadata": {
      "needs_background": "light"
     },
     "output_type": "display_data"
    },
    {
     "data": {
      "image/png": "[encoded data removed]",
      "text/plain": [
       "<Figure size 1296x576 with 2 Axes>"
      ]
     },
     "metadata": {
      "needs_background": "light"
     },
     "output_type": "display_data"
    },
    {
     "data": {
      "image/png": "[encoded data removed]",
      "text/plain": [
       "<Figure size 720x576 with 1 Axes>"
      ]
     },
     "metadata": {
      "needs_background": "light"
     },
     "output_type": "display_data"
    },
    {
     "name": "stdout",
     "output_type": "stream",
     "text": [
      "CR_all_users группы A: 0.007279902027486733 \n",
      "CR_all_users группы Б: 0.0072420237618475505\n",
      "χ²-test по СR_all_users: \n",
      "   statistic :0.0 \n",
      "   pvalue: 1.0 \n",
      "\n"
     ]
    },
    {
     "data": {
      "image/png": "[encoded data removed]",
      "text/plain": [
       "<Figure size 720x576 with 1 Axes>"
      ]
     },
     "metadata": {
      "needs_background": "light"
     },
     "output_type": "display_data"
    }
   ],
   "source": [
    "# функция подкачивает доп файл я с публичной ссылки на яндекс диске и перестраивает графики\n",
    "\n",
    "\n",
    "# важный момент: подкачивается файл только с группами, при этом активные пользователи остаются прежними, \n",
    "# а они у нас все исчерпались файлами ( 'Проект_2_groups.csv' 'Проект_2_active_studs.csv' ) поэтому \n",
    "# фактически наши метрики и их графики\n",
    "# ARPU  (Средний доход на пользователя = (общий доход в группе) / (все активные пользователи))\n",
    "# ARPPU (Средний чек = (общий доход в группе) / (число платящих пользователей))\n",
    "# CR    (Как часто пользователи платят = (число платящих пользователей) / (все активные пользователи)) \n",
    "# меняться не будут при подкачки данного файла\n",
    "\n",
    "#CR_all_users (Средний доход на пользователя = (общий доход в группе) / (все пользователи)) - меняться будет\n",
    "\n",
    "def additional_file(all_active_users, new_file):\n",
    "    try:\n",
    "        if 'id' not in all_active_users.columns or 'id' not in new_file.columns:\n",
    "            raise ValueError(\"Столбец 'id' отсутствует в одном из DataFrame\")\n",
    "        all_groups = pd.concat([groups, group_add], ignore_index=True)\n",
    "        all_groups = pd.concat([all_groups, new_file], ignore_index=True)\n",
    "        merge_allgroups_active = pd.merge (all_groups, active_studs, how = 'inner', left_on = 'id', right_on = 'student_id')\n",
    "        all_active_users = pd.merge(merge_allgroups_active, checks, how = 'left', on = 'student_id').fillna(0)\n",
    "        all_active_users['is_paying'] = all_active_users['rev']>0\n",
    "        \n",
    "\n",
    "        all_users = pd.merge(all_groups,checks, how = 'left', left_on = 'id', right_on = 'student_id').fillna(0)\n",
    "        all_users = all_users.drop('student_id', axis = 1)\n",
    "        all_users['is_paying'] = all_users['rev']>0\n",
    "        \n",
    "        \n",
    "        F_ARPU (all_active_users)\n",
    "        Viz_ARPU(all_active_users)\n",
    "        \n",
    "        F_ARPPU (all_active_users)\n",
    "        Viz_ARPPU(all_active_users)\n",
    "        \n",
    "        F_CR(all_active_users)\n",
    "        VIZ_CR(all_active_users) \n",
    "        \n",
    "        F_CR_all_users(all_users)\n",
    "        VIZ_CR_all_users(all_users) \n",
    "        \n",
    "        #return new_all_active_users\n",
    "    \n",
    "    \n",
    "    except FileNotFoundError:\n",
    "        print(f\"Ошибка: файл {new_file} не найден\")\n",
    "        return all_active_users  # Возвращаем исходные данные\n",
    "    except pd.errors.EmptyDataError:\n",
    "        print(f\"Ошибка: файл {new_file} пуст\")\n",
    "        return all_active_users\n",
    "    except Exception as e:\n",
    "        # Если произошла ЛЮБАЯ ошибка - выполняется этот блок\n",
    "        print(f\"Ошибка подсчета additional_file.\")\n",
    "        \n",
    "additional_file(all_active_users, download_new_file(\"https://disk.yandex.ru/d/sNPpohSA23mE5A\"))\n",
    "        "
   ]
  }
 ],
 "metadata": {
  "kernelspec": {
   "display_name": "Python 3",
   "language": "python",
   "name": "python3"
  },
  "language_info": {
   "codemirror_mode": {
    "name": "ipython",
    "version": 3
   },
   "file_extension": ".py",
   "mimetype": "text/x-python",
   "name": "python",
   "nbconvert_exporter": "python",
   "pygments_lexer": "ipython3",
   "version": "3.7.3"
  }
 },
 "nbformat": 4,
 "nbformat_minor": 4
}
